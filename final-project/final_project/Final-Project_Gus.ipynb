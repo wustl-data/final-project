{
 "cells": [
  {
   "cell_type": "code",
   "execution_count": 2,
   "id": "4c2bda21-b93a-4ea8-ad0b-9eeee18dd7b1",
   "metadata": {},
   "outputs": [],
   "source": [
    "from black import schedule_formatting\n",
    "import sportsreference\n",
    "from sportsreference.nfl.schedule import Schedule\n",
    "from sportsreference.nfl.roster import Player\n",
    "from sportsreference.nfl.boxscore import Boxscore\n",
    "from sportsreference.nfl.teams import Teams\n",
    "import pandas as pd\n",
    "import datetime\n",
    "import re\n",
    "import numpy as np"
   ]
  },
  {
   "cell_type": "code",
   "execution_count": 3,
   "id": "7aeb1e85-636a-41ce-a9a3-48a88451d41a",
   "metadata": {
    "tags": []
   },
   "outputs": [
    {
     "name": "stdout",
     "output_type": "stream",
     "text": [
      "Index(['boxscore_index', 'date', 'datetime', 'day', 'extra_points_attempted',\n",
      "       'extra_points_made', 'field_goals_attempted', 'field_goals_made',\n",
      "       'fourth_down_attempts', 'fourth_down_conversions', 'interceptions',\n",
      "       'location', 'opponent_abbr', 'opponent_name', 'overtime',\n",
      "       'pass_attempts', 'pass_completion_rate', 'pass_completions',\n",
      "       'pass_touchdowns', 'pass_yards', 'pass_yards_per_attempt',\n",
      "       'points_allowed', 'points_scored', 'punt_yards', 'punts',\n",
      "       'quarterback_rating', 'result', 'rush_attempts', 'rush_touchdowns',\n",
      "       'rush_yards', 'rush_yards_per_attempt', 'third_down_attempts',\n",
      "       'third_down_conversions', 'time_of_possession', 'times_sacked', 'type',\n",
      "       'week', 'yards_lost_from_sacks'],\n",
      "      dtype='object')\n",
      "202012270kan\n"
     ]
    },
    {
     "data": {
      "text/plain": [
       "202009130atl    202009130atl\n",
       "202009200dal    202009200dal\n",
       "202009270atl    202009270atl\n",
       "202010050gnb    202010050gnb\n",
       "202010110atl    202010110atl\n",
       "202010180min    202010180min\n",
       "202010250atl    202010250atl\n",
       "202010290car    202010290car\n",
       "202011080atl    202011080atl\n",
       "202011220nor    202011220nor\n",
       "202011290atl    202011290atl\n",
       "202012060atl    202012060atl\n",
       "202012130sdg    202012130sdg\n",
       "202012200atl    202012200atl\n",
       "202012270kan    202012270kan\n",
       "202101030tam    202101030tam\n",
       "Name: boxscore_index, dtype: object"
      ]
     },
     "execution_count": 3,
     "metadata": {},
     "output_type": "execute_result"
    }
   ],
   "source": [
    "date = datetime.datetime(2020, 12, 27)\n",
    "schedule = Schedule('ATL', year = '2020')\n",
    "sce = schedule(date)\n",
    "\n",
    "print(sce.dataframe.columns)\n",
    "print(sce.boxscore_index)\n",
    "schedule.dataframe.boxscore_index"
   ]
  },
  {
   "cell_type": "code",
   "execution_count": 4,
   "id": "3eb8e5df-16d1-4c81-b7d2-3e7a8b8ae910",
   "metadata": {
    "tags": []
   },
   "outputs": [
    {
     "name": "stdout",
     "output_type": "stream",
     "text": [
      "Dallas Cowboys\n",
      "Tampa Bay Buccaneers\n",
      "Buffalo Bills\n",
      "Kansas City Chiefs\n",
      "Los Angeles Chargers\n",
      "New England Patriots\n",
      "Cincinnati Bengals\n",
      "Los Angeles Rams\n",
      "Indianapolis Colts\n",
      "Green Bay Packers\n",
      "Arizona Cardinals\n",
      "Philadelphia Eagles\n",
      "San Francisco 49ers\n",
      "Minnesota Vikings\n",
      "Tennessee Titans\n",
      "Seattle Seahawks\n",
      "Baltimore Ravens\n",
      "Las Vegas Raiders\n",
      "New Orleans Saints\n",
      "Cleveland Browns\n",
      "Pittsburgh Steelers\n",
      "Miami Dolphins\n",
      "Denver Broncos\n",
      "Washington Football Team\n",
      "Detroit Lions\n",
      "Atlanta Falcons\n",
      "Chicago Bears\n",
      "New York Jets\n",
      "Carolina Panthers\n",
      "Houston Texans\n",
      "New York Giants\n",
      "Jacksonville Jaguars\n"
     ]
    }
   ],
   "source": [
    "teams = Teams()\n",
    "for team in teams:\n",
    "    print(team.name)  # Prints the team's name\n",
    "    # Prints the team's average margin of victory\n"
   ]
  },
  {
   "cell_type": "code",
   "execution_count": 5,
   "id": "d75f538f-b2b3-46e4-bb65-4295a1fcedcf",
   "metadata": {
    "tags": []
   },
   "outputs": [],
   "source": [
    "schedule_for_bears = Schedule('CHI', year = 2020)\n",
    "schedule_for_bears.dataframe.boxscore_index\n",
    "conv = schedule_for_bears.dataframe.fourth_down_conversions\n",
    "att = schedule_for_bears.dataframe.fourth_down_attempts"
   ]
  },
  {
   "cell_type": "code",
   "execution_count": 6,
   "id": "4bea9dc3-35df-4c21-8ef1-d5b6fae8efee",
   "metadata": {
    "tags": []
   },
   "outputs": [
    {
     "name": "stdout",
     "output_type": "stream",
     "text": [
      "202009130det    0.500000\n",
      "202009200chi    1.000000\n",
      "202009270atl    0.500000\n",
      "202010040chi         NaN\n",
      "202010080chi         NaN\n",
      "202010180car         NaN\n",
      "202010260ram    0.250000\n",
      "202011010chi    0.666667\n",
      "202011080oti    0.750000\n",
      "202011160chi    0.000000\n",
      "202011290gnb    1.000000\n",
      "202012060chi    0.000000\n",
      "202012130chi         NaN\n",
      "202012200min         NaN\n",
      "202012270jax    1.000000\n",
      "202101030chi    0.833333\n",
      "202101100nor    0.000000\n",
      "dtype: float64\n"
     ]
    }
   ],
   "source": [
    "schedule_for_bears_conv_rate = conv / att\n",
    "print(schedule_for_bears_conv_rate)"
   ]
  },
  {
   "cell_type": "code",
   "execution_count": 32,
   "id": "418bbecd-44c1-47e2-a498-c605218043bc",
   "metadata": {
    "jupyter": {
     "source_hidden": true
    },
    "tags": []
   },
   "outputs": [
    {
     "name": "stdout",
     "output_type": "stream",
     "text": [
      "[0.0, 1.0, 0.5, 1.0, 0.67, 1.0, 0.4, 0.67]\n",
      "[0.0, 0.0, nan, 0.0, nan, nan, 0.0, 0.33, 0.17]\n",
      "0.66\n",
      "0.08\n"
     ]
    }
   ],
   "source": [
    "#Chicago Bears 2021 season, outputting home (Bears) fourth down conversion rates and away team's conversation rates, with a season avg.\n",
    "schedule_for_bears_2021 = Schedule('CHI', year = 2021)\n",
    "schedule_for_bears_2021.dataframe.boxscore_index\n",
    "conv_fourth_2021 = schedule_for_bears_2021.dataframe.fourth_down_conversions\n",
    "att_fourth_2021 = schedule_for_bears_2021.dataframe.fourth_down_attempts\n",
    "schedule_for_bears_fourth_conv_rate_2021 = conv_fourth_2021 / att_fourth_2021\n",
    "bears_2021_fourth_home_arr = []\n",
    "bears_2021_fourth_away_arr = []\n",
    "bearscodes_2021 = schedule_for_bears_2021.dataframe.boxscore_index\n",
    "\n",
    "reg_home = r'[c][h][i]'\n",
    "#querybears = re.findall(reg_home, code)\n",
    "for code in bearscodes_2021:\n",
    "    querybears = re.findall(reg_home, code)\n",
    "    if querybears:\n",
    "        bears_2021_fourth_home_arr.append(round(schedule_for_bears_fourth_conv_rate_2021[code],2))\n",
    "    else:\n",
    "        bears_2021_fourth_away_arr.append(round(schedule_for_bears_fourth_conv_rate_2021[code],2))\n",
    "print(bears_2021_fourth_home_arr)\n",
    "print(bears_2021_fourth_away_arr)\n",
    "\n",
    "num_nan_bears_fourth_home_2021 = np.isnan(bears_2021_fourth_home_arr).sum()\n",
    "season_2021_fourth_home_avg = round(np.nansum(bears_2021_fourth_home_arr) / (len(bears_2021_fourth_home_arr)-num_nan_bears_fourth_home_2021),2)\n",
    "print(season_2021_fourth_home_avg)\n",
    "\n",
    "num_nan_bears_fourth_away_2021 = np.isnan(bears_2021_fourth_away_arr).sum()\n",
    "season_2021_fourth_away_avg = round(np.nansum(bears_2021_fourth_away_arr) / (len(bears_2021_fourth_away_arr)-num_nan_bears_fourth_away_2021),2)\n",
    "print(season_2021_fourth_away_avg)"
   ]
  },
  {
   "cell_type": "code",
   "execution_count": 30,
   "id": "d993754e-42eb-4a16-9e90-4949f7cb9ead",
   "metadata": {
    "jupyter": {
     "source_hidden": true
    },
    "tags": []
   },
   "outputs": [
    {
     "name": "stdout",
     "output_type": "stream",
     "text": [
      "[0.4, 0.12, 0.36, 0.53, 0.18, 0.4, 0.17, 0.38]\n",
      "[0.45, 0.09, 0.46, 0.18, 0.33, 0.38, 0.38, 0.5, 0.33]\n",
      "0.32\n",
      "0.34\n"
     ]
    }
   ],
   "source": [
    "#Chicago Bears 2021 season, outputting home (Bears) third down conversion rates and away team's conversation rates, with a season avg.\n",
    "schedule_for_bears_2021 = Schedule('CHI', year = 2021)\n",
    "schedule_for_bears_2021.dataframe.boxscore_index\n",
    "conv_third_2021 = schedule_for_bears_2021.dataframe.third_down_conversions\n",
    "att_third_2021 = schedule_for_bears_2021.dataframe.third_down_attempts\n",
    "schedule_for_bears_third_conv_rate_2021 = conv_third_2021 / att_third_2021\n",
    "bears_2021_third_home_arr = []\n",
    "bears_2021_third_away_arr = []\n",
    "bearscodes_2021 = schedule_for_bears_2021.dataframe.boxscore_index\n",
    "\n",
    "reg_home = r'[c][h][i]'\n",
    "#querybears = re.findall(reg_home, code)\n",
    "for code in bearscodes_2021:\n",
    "    querybears = re.findall(reg_home, code)\n",
    "    if querybears:\n",
    "        bears_2021_third_home_arr.append(round(schedule_for_bears_third_conv_rate_2021[code],2))\n",
    "    else:\n",
    "        bears_2021_third_away_arr.append(round(schedule_for_bears_third_conv_rate_2021[code],2))\n",
    "print(bears_2021_third_home_arr)\n",
    "print(bears_2021_third_away_arr)\n",
    "\n",
    "num_nan_bears_third_home_2021 = np.isnan(bears_2021_third_home_arr).sum()\n",
    "season_2021_third_home_avg = round(np.nansum(bears_2021_third_home_arr) / (len(bears_2021_third_home_arr)-num_nan_bears_third_home_2021),2)\n",
    "print(season_2021_third_home_avg)\n",
    "\n",
    "num_nan_bears_third_away_2021 = np.isnan(bears_2021_third_away_arr).sum()\n",
    "season_2021_third_away_avg = round(np.nansum(bears_2021_third_away_arr) / (len(bears_2021_third_away_arr)-num_nan_bears_third_away_2021),2)\n",
    "print(season_2021_third_away_avg)"
   ]
  },
  {
   "cell_type": "code",
   "execution_count": 10,
   "id": "105d8cc2-b28a-4ba1-b350-f89d109260b8",
   "metadata": {
    "jupyter": {
     "source_hidden": true
    },
    "tags": []
   },
   "outputs": [
    {
     "name": "stdout",
     "output_type": "stream",
     "text": [
      "[1.0, nan, nan, 0.67, 0.0, 0.0, nan, 0.83]\n",
      "[0.5, 0.5, nan, 0.25, 0.75, 1.0, nan, 1.0, 0.0]\n",
      "0.5\n",
      "0.57\n"
     ]
    }
   ],
   "source": [
    "#Chicago Bears 2020 season, outputting home (Bears) fourth down ocnversion rates and away team's conversation rates, with a season avg.\n",
    "schedule_for_bears = Schedule('CHI', year = 2020)\n",
    "schedule_for_bears.dataframe.boxscore_index\n",
    "conv_2020 = schedule_for_bears.dataframe.fourth_down_conversions\n",
    "att_2020 = schedule_for_bears.dataframe.fourth_down_attempts\n",
    "schedule_for_bears_conv_rate_2020 = conv_2020 / att_2020\n",
    "bears_2020_home_arr = []\n",
    "bears_2020_away_arr = []\n",
    "bearscodes_2020 = schedule_for_bears.dataframe.boxscore_index\n",
    "\n",
    "reg_home = r'[c][h][i]'\n",
    "#querybears = re.findall(reg_home, code)\n",
    "for code in bearscodes_2020:\n",
    "    querybears = re.findall(reg_home, code)\n",
    "    if querybears:\n",
    "        bears_2020_home_arr.append(round(schedule_for_bears_conv_rate_2020[code],2))\n",
    "    else:\n",
    "        bears_2020_away_arr.append(round(schedule_for_bears_conv_rate_2020[code],2))\n",
    "print(bears_2020_home_arr)\n",
    "print(bears_2020_away_arr)\n",
    "num_nan_bears_home_2020 = np.isnan(bears_2020_home_arr).sum()\n",
    "\n",
    "season_2020_home_avg = round(np.nansum(bears_2020_home_arr) / (len(bears_2020_home_arr)-num_nan_bears_home_2020),2)\n",
    "print(season_2020_home_avg)\n",
    "num_nan_bears_away_2020 = np.isnan(bears_2020_away_arr).sum()\n",
    "\n",
    "season_2020_away_avg = round(np.nansum(bears_2020_away_arr) / (len(bears_2020_away_arr)-num_nan_bears_away_2020),2)\n",
    "print(season_2020_away_avg)"
   ]
  },
  {
   "cell_type": "code",
   "execution_count": 33,
   "id": "a3102819-e466-481f-9a15-ad198c630f75",
   "metadata": {
    "jupyter": {
     "source_hidden": true
    },
    "tags": []
   },
   "outputs": [
    {
     "name": "stdout",
     "output_type": "stream",
     "text": [
      "[0.56, 0.29, 0.3, 0.33, 0.18, 0.36, 0.3, 0.4]\n",
      "[0.18, 0.27, 0.5, 0.29, 0.13, 0.4, 0.5, 0.5, 0.1]\n",
      "0.34\n",
      "0.32\n"
     ]
    }
   ],
   "source": [
    "#Chicago Bears 2020 season, outputting home (Bears) third down conversion rates and away team's conversation rates, with a season avg.\n",
    "schedule_for_bears_2020 = Schedule('CHI', year = 2020)\n",
    "schedule_for_bears_2020.dataframe.boxscore_index\n",
    "conv_third_2020 = schedule_for_bears_2020.dataframe.third_down_conversions\n",
    "att_third_2020 = schedule_for_bears_2020.dataframe.third_down_attempts\n",
    "schedule_for_bears_third_conv_rate_2020 = conv_third_2020 / att_third_2020\n",
    "bears_2020_third_home_arr = []\n",
    "bears_2020_third_away_arr = []\n",
    "bearscodes_2020 = schedule_for_bears_2020.dataframe.boxscore_index\n",
    "\n",
    "reg_home = r'[c][h][i]'\n",
    "#querybears = re.findall(reg_home, code)\n",
    "for code in bearscodes_2020:\n",
    "    querybears = re.findall(reg_home, code)\n",
    "    if querybears:\n",
    "        bears_2020_third_home_arr.append(round(schedule_for_bears_third_conv_rate_2020[code],2))\n",
    "    else:\n",
    "        bears_2020_third_away_arr.append(round(schedule_for_bears_third_conv_rate_2020[code],2))\n",
    "print(bears_2020_third_home_arr)\n",
    "print(bears_2020_third_away_arr)\n",
    "\n",
    "num_nan_bears_third_home_2020 = np.isnan(bears_2020_third_home_arr).sum()\n",
    "season_2020_third_home_avg = round(np.nansum(bears_2020_third_home_arr) / (len(bears_2020_third_home_arr)-num_nan_bears_third_home_2020),2)\n",
    "print(season_2020_third_home_avg)\n",
    "\n",
    "num_nan_bears_third_away_2020 = np.isnan(bears_2020_third_away_arr).sum()\n",
    "season_2020_third_away_avg = round(np.nansum(bears_2020_third_away_arr) / (len(bears_2020_third_away_arr)-num_nan_bears_third_away_2020),2)\n",
    "print(season_2020_third_away_avg)"
   ]
  },
  {
   "cell_type": "code",
   "execution_count": 37,
   "id": "a95595b9-0acd-4cc3-a901-65857aa906fc",
   "metadata": {
    "jupyter": {
     "source_hidden": true
    },
    "tags": []
   },
   "outputs": [
    {
     "name": "stdout",
     "output_type": "stream",
     "text": [
      "[0.0, 0.67, 0.5, 1.0, 1.0, nan, nan, 0.0]\n",
      "[1.0, nan, nan, nan, 0.0, 0.0, 0.0, 0.5]\n",
      "0.53\n",
      "0.3\n"
     ]
    }
   ],
   "source": [
    "#Chicago Bears 2019 season, outputting home (Bears) fourth down ocnversion rates and away team's conversation rates, with a season avg.\n",
    "schedule_for_bears_2019 = Schedule('CHI', year = 2019)\n",
    "schedule_for_bears_2019.dataframe.boxscore_index\n",
    "conv_fourth_2019 = schedule_for_bears_2019.dataframe.fourth_down_conversions\n",
    "att_fourth_2019 = schedule_for_bears_2019.dataframe.fourth_down_attempts\n",
    "schedule_for_bears_fourth_conv_rate_2019 = conv_fourth_2019 / att_fourth_2019\n",
    "bears_2019_fourth_home_arr = []\n",
    "bears_2019_fourth_away_arr = []\n",
    "bearscodes_2019 = schedule_for_bears_2019.dataframe.boxscore_index\n",
    "\n",
    "reg_home = r'[c][h][i]'\n",
    "#querybears = re.findall(reg_home, code)\n",
    "for code in bearscodes_2019:\n",
    "    querybears = re.findall(reg_home, code)\n",
    "    if querybears:\n",
    "        bears_2019_fourth_home_arr.append(round(schedule_for_bears_fourth_conv_rate_2019[code],2))\n",
    "    else:\n",
    "        bears_2019_fourth_away_arr.append(round(schedule_for_bears_fourth_conv_rate_2019[code],2))\n",
    "print(bears_2019_fourth_home_arr)\n",
    "print(bears_2019_fourth_away_arr)\n",
    "\n",
    "num_nan_bears_fourth_home_2019 = np.isnan(bears_2019_fourth_home_arr).sum()\n",
    "season_2019_fourth_home_avg = round(np.nansum(bears_2019_fourth_home_arr) / (len(bears_2019_fourth_home_arr)-num_nan_bears_fourth_home_2019),2)\n",
    "print(season_2019_fourth_home_avg)\n",
    "\n",
    "num_nan_bears_fourth_away_2019 = np.isnan(bears_2019_fourth_away_arr).sum()\n",
    "season_2019_fourth_away_avg = round(np.nansum(bears_2019_fourth_away_arr) / (len(bears_2019_fourth_away_arr)-num_nan_bears_fourth_away_2019),2)\n",
    "print(season_2019_fourth_away_avg)\n"
   ]
  },
  {
   "cell_type": "code",
   "execution_count": 34,
   "id": "b59e36b8-7f8c-4f22-9eed-79536cff4c2e",
   "metadata": {
    "jupyter": {
     "source_hidden": true
    },
    "tags": []
   },
   "outputs": [
    {
     "name": "stdout",
     "output_type": "stream",
     "text": [
      "[0.2, 0.31, 0.17, 0.36, 0.17, 0.27, 0.58, 0.42]\n",
      "[0.27, 0.62, 0.36, 0.2, 0.35, 0.5, 0.45, 0.44]\n",
      "0.31\n",
      "0.4\n"
     ]
    }
   ],
   "source": [
    "#Chicago Bears 2019 season, outputting home (Bears) third down conversion rates and away team's conversation rates, with a season avg.\n",
    "schedule_for_bears_2019 = Schedule('CHI', year = 2019)\n",
    "schedule_for_bears_2019.dataframe.boxscore_index\n",
    "conv_third_2019 = schedule_for_bears_2019.dataframe.third_down_conversions\n",
    "att_third_2019 = schedule_for_bears_2019.dataframe.third_down_attempts\n",
    "schedule_for_bears_third_conv_rate_2019 = conv_third_2019 / att_third_2019\n",
    "bears_2019_third_home_arr = []\n",
    "bears_2019_third_away_arr = []\n",
    "bearscodes_2019 = schedule_for_bears_2019.dataframe.boxscore_index\n",
    "\n",
    "reg_home = r'[c][h][i]'\n",
    "#querybears = re.findall(reg_home, code)\n",
    "for code in bearscodes_2019:\n",
    "    querybears = re.findall(reg_home, code)\n",
    "    if querybears:\n",
    "        bears_2019_third_home_arr.append(round(schedule_for_bears_third_conv_rate_2019[code],2))\n",
    "    else:\n",
    "        bears_2019_third_away_arr.append(round(schedule_for_bears_third_conv_rate_2019[code],2))\n",
    "print(bears_2019_third_home_arr)\n",
    "print(bears_2019_third_away_arr)\n",
    "\n",
    "num_nan_bears_third_home_2019 = np.isnan(bears_2019_third_home_arr).sum()\n",
    "season_2019_third_home_avg = round(np.nansum(bears_2019_third_home_arr) / (len(bears_2019_third_home_arr)-num_nan_bears_third_home_2019),2)\n",
    "print(season_2019_third_home_avg)\n",
    "\n",
    "num_nan_bears_third_away_2019 = np.isnan(bears_2019_third_away_arr).sum()\n",
    "season_2019_third_away_avg = round(np.nansum(bears_2019_third_away_arr) / (len(bears_2019_third_away_arr)-num_nan_bears_third_away_2019),2)\n",
    "print(season_2019_third_away_avg)"
   ]
  },
  {
   "cell_type": "code",
   "execution_count": 18,
   "id": "b88480a9-8585-44f9-884c-12fbf9f06f72",
   "metadata": {
    "jupyter": {
     "source_hidden": true
    },
    "tags": []
   },
   "outputs": [],
   "source": [
    "#Iterate through 2017-2020 for Chicago Bears, identifying their fourth down success rate across entire Mitchell Trubisky career\n",
    "fourth_down_years_home_arr = []\n",
    "fourth_down_years_away_arr = []\n",
    "\n",
    "schedule_for_bears.dataframe.boxscore_index\n",
    "conv = schedule_for_bears.dataframe.fourth_down_conversions\n",
    "att = schedule_for_bears.dataframe.fourth_down_attempts\n",
    "\n",
    "bearscodes = schedule_for_bears.dataframe.boxscore_index\n",
    "\n",
    "def append_conv_rate_fourth_down():\n",
    "    reg_home = r'[c][h][i]'\n",
    "    for i in range(2017,2021):\n",
    "        schedule = Schedule('CHI', i)\n",
    "        game_indices = schedule.dataframe.boxscore_index\n",
    "        for game in game_indices:\n",
    "            querybears = re.findall(reg_home, game)\n",
    "            conv = schedule.dataframe.fourth_down_conversions\n",
    "            att = schedule.dataframe.fourth_down_attempts\n",
    "            conv_rate = conv/att\n",
    "            if querybears:\n",
    "                fourth_down_years_home_arr.append(round(conv_rate[game],2))\n",
    "            else:\n",
    "                fourth_down_years_away_arr.append(round(conv_rate[game],2))\n",
    "    return fourth_down_years_home_arr, fourth_down_years_away_arr\n",
    "\n"
   ]
  },
  {
   "cell_type": "code",
   "execution_count": 19,
   "id": "183c3881-6913-4f6d-85e0-34659e74ce6d",
   "metadata": {},
   "outputs": [],
   "source": [
    "fourth_down_years_home_arr, fourth_down_years_away_arr = append_conv_rate_fourth_down()"
   ]
  },
  {
   "cell_type": "code",
   "execution_count": 20,
   "id": "e89ef617-ddc2-4c54-b1bd-e22ee003b60c",
   "metadata": {
    "jupyter": {
     "source_hidden": true
    },
    "tags": []
   },
   "outputs": [
    {
     "name": "stdout",
     "output_type": "stream",
     "text": [
      "[0.5, nan, 1.0, nan, 0.0, 1.0, nan, 1.0, 1.0, nan, 1.0, 1.0, nan, nan, nan, 0.0, nan, 0.0, 0.67, 0.5, 1.0, 1.0, nan, nan, 0.0, 1.0, nan, nan, 0.67, 0.0, 0.0, nan, 0.83]\n",
      "[0.0, 1.0, nan, 0.0, 0.0, 0.5, 0.0, 0.0, 0.0, 1.0, 0.0, nan, nan, 0.8, 1.0, 0.0, 1.0, nan, nan, nan, 0.0, 0.0, 0.0, 0.5, 0.5, 0.5, nan, 0.25, 0.75, 1.0, nan, 1.0, 0.0]\n",
      "0.61\n",
      "0.39\n"
     ]
    }
   ],
   "source": [
    "print(fourth_down_years_home_arr)\n",
    "print(fourth_down_years_away_arr)\n",
    "years_home_fourth_avg = round(np.nansum(fourth_down_years_home_arr) / (len(fourth_down_years_home_arr)-13),2)\n",
    "\n",
    "print(years_home_fourth_avg)\n",
    "years_away_fourth_avg = round(np.nansum(fourth_down_years_away_arr) / (len(fourth_down_years_away_arr)-8),2)\n",
    "print(years_away_fourth_avg)\n"
   ]
  },
  {
   "cell_type": "code",
   "execution_count": 21,
   "id": "5942c9c5-e1b5-4e6c-8fbf-9fe806374ab2",
   "metadata": {
    "jupyter": {
     "source_hidden": true
    },
    "tags": []
   },
   "outputs": [],
   "source": [
    "#Iterate through 2017-2020 for Chicago Bears, identifying their third down success rate across entire Mitchell Trubisky career\n",
    "\n",
    "third_down_years_home_arr = []\n",
    "third_down_years_away_arr = []\n",
    "\n",
    "schedule_for_bears.dataframe.boxscore_index\n",
    "conv = schedule_for_bears.dataframe.fourth_down_conversions\n",
    "att = schedule_for_bears.dataframe.fourth_down_attempts\n",
    "\n",
    "bearscodes = schedule_for_bears.dataframe.boxscore_index\n",
    "\n",
    "def append_conv_rate_third_down():\n",
    "    reg_home = r'[c][h][i]'\n",
    "    for i in range(2017,2021):\n",
    "        schedule = Schedule('CHI', i)\n",
    "        game_indices = schedule.dataframe.boxscore_index\n",
    "        for game in game_indices:\n",
    "            querybears = re.findall(reg_home, game)\n",
    "            conv = schedule.dataframe.third_down_conversions\n",
    "            att = schedule.dataframe.third_down_attempts\n",
    "            conv_rate = conv/att\n",
    "            if querybears:\n",
    "                third_down_years_home_arr.append(round(conv_rate[game],2))\n",
    "            else:\n",
    "                third_down_years_away_arr.append(round(conv_rate[game],2))\n",
    "    return third_down_years_home_arr, third_down_years_away_arr"
   ]
  },
  {
   "cell_type": "code",
   "execution_count": 22,
   "id": "972965d3-aa6b-4a5e-b7bb-ec0ab240263a",
   "metadata": {},
   "outputs": [],
   "source": [
    "third_down_years_home_arr, third_down_years_away_arr = append_conv_rate_third_down()"
   ]
  },
  {
   "cell_type": "code",
   "execution_count": 23,
   "id": "5bbdbd51-2672-49bb-80f7-b31a084310a3",
   "metadata": {
    "jupyter": {
     "source_hidden": true
    },
    "tags": []
   },
   "outputs": [
    {
     "name": "stdout",
     "output_type": "stream",
     "text": [
      "[0.38, 0.33, 0.25, 0.18, 0.29, 0.33, 0.5, 0.44, 0.42, 0.5, 0.5, 0.33, 0.4, 0.5, 0.44, 0.3, 0.31, 0.2, 0.31, 0.17, 0.36, 0.17, 0.27, 0.58, 0.42, 0.56, 0.29, 0.3, 0.33, 0.18, 0.36, 0.3, 0.4]\n",
      "[0.5, 0.42, 0.29, 0.47, 0.23, 0.36, 0.42, 0.08, 0.41, 0.36, 0.67, 0.27, 0.3, 0.13, 0.45, 0.57, 0.27, 0.62, 0.36, 0.2, 0.35, 0.5, 0.45, 0.44, 0.18, 0.27, 0.5, 0.29, 0.13, 0.4, 0.5, 0.5, 0.1]\n",
      "0.58\n",
      "0.48\n"
     ]
    }
   ],
   "source": [
    "print(third_down_years_home_arr)\n",
    "print(third_down_years_away_arr)\n",
    "years_home_third_avg = round(np.nansum(third_down_years_home_arr) / (len(third_down_years_home_arr)-13),2)\n",
    "\n",
    "print(years_home_third_avg)\n",
    "years_away_third_avg = round(np.nansum(third_down_years_away_arr) / (len(third_down_years_away_arr)-8),2)\n",
    "print(years_away_third_avg)"
   ]
  }
 ],
 "metadata": {
  "kernelspec": {
   "display_name": "Python 3 (ipykernel)",
   "language": "python",
   "name": "python3"
  },
  "language_info": {
   "codemirror_mode": {
    "name": "ipython",
    "version": 3
   },
   "file_extension": ".py",
   "mimetype": "text/x-python",
   "name": "python",
   "nbconvert_exporter": "python",
   "pygments_lexer": "ipython3",
   "version": "3.9.6"
  }
 },
 "nbformat": 4,
 "nbformat_minor": 5
}
