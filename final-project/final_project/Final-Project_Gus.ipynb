{
 "cells": [
  {
   "cell_type": "code",
   "execution_count": 1,
   "id": "4c2bda21-b93a-4ea8-ad0b-9eeee18dd7b1",
   "metadata": {},
   "outputs": [],
   "source": [
    "from black import schedule_formatting\n",
    "import sportsreference\n",
    "from sportsreference.nfl.schedule import Schedule\n",
    "from sportsreference.nfl.roster import Player\n",
    "from sportsreference.nfl.boxscore import Boxscore\n",
    "from sportsreference.nfl.teams import Teams\n",
    "import pandas as pd\n",
    "import datetime\n",
    "import re\n",
    "import numpy as np\n"
   ]
  },
  {
   "cell_type": "code",
   "execution_count": 3,
   "id": "7aeb1e85-636a-41ce-a9a3-48a88451d41a",
   "metadata": {
    "tags": []
   },
   "outputs": [
    {
     "name": "stdout",
     "output_type": "stream",
     "text": [
      "Index(['boxscore_index', 'date', 'datetime', 'day', 'extra_points_attempted',\n",
      "       'extra_points_made', 'field_goals_attempted', 'field_goals_made',\n",
      "       'fourth_down_attempts', 'fourth_down_conversions', 'interceptions',\n",
      "       'location', 'opponent_abbr', 'opponent_name', 'overtime',\n",
      "       'pass_attempts', 'pass_completion_rate', 'pass_completions',\n",
      "       'pass_touchdowns', 'pass_yards', 'pass_yards_per_attempt',\n",
      "       'points_allowed', 'points_scored', 'punt_yards', 'punts',\n",
      "       'quarterback_rating', 'result', 'rush_attempts', 'rush_touchdowns',\n",
      "       'rush_yards', 'rush_yards_per_attempt', 'third_down_attempts',\n",
      "       'third_down_conversions', 'time_of_possession', 'times_sacked', 'type',\n",
      "       'week', 'yards_lost_from_sacks'],\n",
      "      dtype='object')\n",
      "202012270kan\n"
     ]
    },
    {
     "data": {
      "text/plain": [
       "202009130atl    202009130atl\n",
       "202009200dal    202009200dal\n",
       "202009270atl    202009270atl\n",
       "202010050gnb    202010050gnb\n",
       "202010110atl    202010110atl\n",
       "202010180min    202010180min\n",
       "202010250atl    202010250atl\n",
       "202010290car    202010290car\n",
       "202011080atl    202011080atl\n",
       "202011220nor    202011220nor\n",
       "202011290atl    202011290atl\n",
       "202012060atl    202012060atl\n",
       "202012130sdg    202012130sdg\n",
       "202012200atl    202012200atl\n",
       "202012270kan    202012270kan\n",
       "202101030tam    202101030tam\n",
       "Name: boxscore_index, dtype: object"
      ]
     },
     "execution_count": 3,
     "metadata": {},
     "output_type": "execute_result"
    }
   ],
   "source": [
    "date = datetime.datetime(2020, 12, 27)\n",
    "schedule = Schedule('ATL', year = '2020')\n",
    "sce = schedule(date)\n",
    "\n",
    "\n",
    "\n",
    "print(sce.dataframe.columns)\n",
    "print(sce.boxscore_index)\n",
    "schedule.dataframe.boxscore_index"
   ]
  },
  {
   "cell_type": "code",
   "execution_count": 4,
   "id": "3eb8e5df-16d1-4c81-b7d2-3e7a8b8ae910",
   "metadata": {
    "tags": []
   },
   "outputs": [
    {
     "name": "stdout",
     "output_type": "stream",
     "text": [
      "Dallas Cowboys\n",
      "Tampa Bay Buccaneers\n",
      "Buffalo Bills\n",
      "Kansas City Chiefs\n",
      "Los Angeles Chargers\n",
      "New England Patriots\n",
      "Cincinnati Bengals\n",
      "Los Angeles Rams\n",
      "Indianapolis Colts\n",
      "Green Bay Packers\n",
      "Arizona Cardinals\n",
      "Philadelphia Eagles\n",
      "San Francisco 49ers\n",
      "Minnesota Vikings\n",
      "Tennessee Titans\n",
      "Seattle Seahawks\n",
      "Baltimore Ravens\n",
      "Las Vegas Raiders\n",
      "New Orleans Saints\n",
      "Cleveland Browns\n",
      "Pittsburgh Steelers\n",
      "Miami Dolphins\n",
      "Denver Broncos\n",
      "Washington Football Team\n",
      "Detroit Lions\n",
      "Atlanta Falcons\n",
      "Chicago Bears\n",
      "New York Jets\n",
      "Carolina Panthers\n",
      "Houston Texans\n",
      "New York Giants\n",
      "Jacksonville Jaguars\n"
     ]
    }
   ],
   "source": [
    "teams = Teams()\n",
    "for team in teams:\n",
    "    print(team.name)  # Prints the team's name\n",
    "    # Prints the team's average margin of victory\n"
   ]
  },
  {
   "cell_type": "code",
   "execution_count": 5,
   "id": "d75f538f-b2b3-46e4-bb65-4295a1fcedcf",
   "metadata": {
    "tags": []
   },
   "outputs": [],
   "source": [
    "schedule_for_bears = Schedule('CHI', year = 2020)\n",
    "schedule_for_bears.dataframe.boxscore_index\n",
    "conv = schedule_for_bears.dataframe.fourth_down_conversions\n",
    "att = schedule_for_bears.dataframe.fourth_down_attempts"
   ]
  },
  {
   "cell_type": "code",
   "execution_count": 6,
   "id": "4bea9dc3-35df-4c21-8ef1-d5b6fae8efee",
   "metadata": {
    "tags": []
   },
   "outputs": [
    {
     "name": "stdout",
     "output_type": "stream",
     "text": [
      "202009130det    0.500000\n",
      "202009200chi    1.000000\n",
      "202009270atl    0.500000\n",
      "202010040chi         NaN\n",
      "202010080chi         NaN\n",
      "202010180car         NaN\n",
      "202010260ram    0.250000\n",
      "202011010chi    0.666667\n",
      "202011080oti    0.750000\n",
      "202011160chi    0.000000\n",
      "202011290gnb    1.000000\n",
      "202012060chi    0.000000\n",
      "202012130chi         NaN\n",
      "202012200min         NaN\n",
      "202012270jax    1.000000\n",
      "202101030chi    0.833333\n",
      "202101100nor    0.000000\n",
      "dtype: float64\n"
     ]
    }
   ],
   "source": [
    "schedule_for_bears_conv_rate = conv / att\n",
    "print(schedule_for_bears_conv_rate)"
   ]
  },
  {
   "cell_type": "code",
   "execution_count": 32,
   "id": "418bbecd-44c1-47e2-a498-c605218043bc",
   "metadata": {
    "tags": []
   },
   "outputs": [
    {
     "name": "stdout",
     "output_type": "stream",
     "text": [
      "[0.0, 1.0, 0.5, 1.0, 0.67, 1.0, 0.4, 0.67]\n",
      "[0.0, 0.0, nan, 0.0, nan, nan, 0.0, 0.33, 0.17]\n",
      "0.66\n",
      "0.08\n"
     ]
    }
   ],
   "source": [
    "#Chicago Bears 2021 season, outputting home (Bears) fourth down conversion rates and away team's conversation rates, with a season avg.\n",
    "schedule_for_bears_2021 = Schedule('CHI', year = 2021)\n",
    "schedule_for_bears_2021.dataframe.boxscore_index\n",
    "conv_fourth_2021 = schedule_for_bears_2021.dataframe.fourth_down_conversions\n",
    "att_fourth_2021 = schedule_for_bears_2021.dataframe.fourth_down_attempts\n",
    "schedule_for_bears_fourth_conv_rate_2021 = conv_fourth_2021 / att_fourth_2021\n",
    "bears_2021_fourth_home_arr = []\n",
    "bears_2021_fourth_away_arr = []\n",
    "bearscodes_2021 = schedule_for_bears_2021.dataframe.boxscore_index\n",
    "\n",
    "reg_home = r'[c][h][i]'\n",
    "#querybears = re.findall(reg_home, code)\n",
    "for code in bearscodes_2021:\n",
    "    querybears = re.findall(reg_home, code)\n",
    "    if querybears:\n",
    "        bears_2021_fourth_home_arr.append(round(schedule_for_bears_fourth_conv_rate_2021[code],2))\n",
    "    else:\n",
    "        bears_2021_fourth_away_arr.append(round(schedule_for_bears_fourth_conv_rate_2021[code],2))\n",
    "print(bears_2021_fourth_home_arr)\n",
    "print(bears_2021_fourth_away_arr)\n",
    "\n",
    "num_nan_bears_fourth_home_2021 = np.isnan(bears_2021_fourth_home_arr).sum()\n",
    "season_2021_fourth_home_avg = round(np.nansum(bears_2021_fourth_home_arr) / (len(bears_2021_fourth_home_arr)-num_nan_bears_fourth_home_2021),2)\n",
    "print(season_2021_fourth_home_avg)\n",
    "\n",
    "num_nan_bears_fourth_away_2021 = np.isnan(bears_2021_fourth_away_arr).sum()\n",
    "season_2021_fourth_away_avg = round(np.nansum(bears_2021_fourth_away_arr) / (len(bears_2021_fourth_away_arr)-num_nan_bears_fourth_away_2021),2)\n",
    "print(season_2021_fourth_away_avg)"
   ]
  },
  {
   "cell_type": "code",
   "execution_count": 30,
   "id": "d993754e-42eb-4a16-9e90-4949f7cb9ead",
   "metadata": {
    "tags": []
   },
   "outputs": [
    {
     "name": "stdout",
     "output_type": "stream",
     "text": [
      "[0.4, 0.12, 0.36, 0.53, 0.18, 0.4, 0.17, 0.38]\n",
      "[0.45, 0.09, 0.46, 0.18, 0.33, 0.38, 0.38, 0.5, 0.33]\n",
      "0.32\n",
      "0.34\n"
     ]
    }
   ],
   "source": [
    "#Chicago Bears 2021 season, outputting home (Bears) third down conversion rates and away team's conversation rates, with a season avg.\n",
    "schedule_for_bears_2021 = Schedule('CHI', year = 2021)\n",
    "schedule_for_bears_2021.dataframe.boxscore_index\n",
    "conv_third_2021 = schedule_for_bears_2021.dataframe.third_down_conversions\n",
    "att_third_2021 = schedule_for_bears_2021.dataframe.third_down_attempts\n",
    "schedule_for_bears_third_conv_rate_2021 = conv_third_2021 / att_third_2021\n",
    "bears_2021_third_home_arr = []\n",
    "bears_2021_third_away_arr = []\n",
    "bearscodes_2021 = schedule_for_bears_2021.dataframe.boxscore_index\n",
    "\n",
    "reg_home = r'[c][h][i]'\n",
    "#querybears = re.findall(reg_home, code)\n",
    "for code in bearscodes_2021:\n",
    "    querybears = re.findall(reg_home, code)\n",
    "    if querybears:\n",
    "        bears_2021_third_home_arr.append(round(schedule_for_bears_third_conv_rate_2021[code],2))\n",
    "    else:\n",
    "        bears_2021_third_away_arr.append(round(schedule_for_bears_third_conv_rate_2021[code],2))\n",
    "print(bears_2021_third_home_arr)\n",
    "print(bears_2021_third_away_arr)\n",
    "\n",
    "num_nan_bears_third_home_2021 = np.isnan(bears_2021_third_home_arr).sum()\n",
    "season_2021_third_home_avg = round(np.nansum(bears_2021_third_home_arr) / (len(bears_2021_third_home_arr)-num_nan_bears_third_home_2021),2)\n",
    "print(season_2021_third_home_avg)\n",
    "\n",
    "num_nan_bears_third_away_2021 = np.isnan(bears_2021_third_away_arr).sum()\n",
    "season_2021_third_away_avg = round(np.nansum(bears_2021_third_away_arr) / (len(bears_2021_third_away_arr)-num_nan_bears_third_away_2021),2)\n",
    "print(season_2021_third_away_avg)"
   ]
  },
  {
   "cell_type": "code",
   "execution_count": 10,
   "id": "105d8cc2-b28a-4ba1-b350-f89d109260b8",
   "metadata": {
    "tags": []
   },
   "outputs": [
    {
     "name": "stdout",
     "output_type": "stream",
     "text": [
      "[1.0, nan, nan, 0.67, 0.0, 0.0, nan, 0.83]\n",
      "[0.5, 0.5, nan, 0.25, 0.75, 1.0, nan, 1.0, 0.0]\n",
      "0.5\n",
      "0.57\n"
     ]
    }
   ],
   "source": [
    "#Chicago Bears 2020 season, outputting home (Bears) fourth down ocnversion rates and away team's conversation rates, with a season avg.\n",
    "schedule_for_bears = Schedule('CHI', year = 2020)\n",
    "schedule_for_bears.dataframe.boxscore_index\n",
    "conv_2020 = schedule_for_bears.dataframe.fourth_down_conversions\n",
    "att_2020 = schedule_for_bears.dataframe.fourth_down_attempts\n",
    "schedule_for_bears_conv_rate_2020 = conv_2020 / att_2020\n",
    "bears_2020_home_arr = []\n",
    "bears_2020_away_arr = []\n",
    "bearscodes_2020 = schedule_for_bears.dataframe.boxscore_index\n",
    "\n",
    "reg_home = r'[c][h][i]'\n",
    "#querybears = re.findall(reg_home, code)\n",
    "for code in bearscodes_2020:\n",
    "    querybears = re.findall(reg_home, code)\n",
    "    if querybears:\n",
    "        bears_2020_home_arr.append(round(schedule_for_bears_conv_rate_2020[code],2))\n",
    "    else:\n",
    "        bears_2020_away_arr.append(round(schedule_for_bears_conv_rate_2020[code],2))\n",
    "print(bears_2020_home_arr)\n",
    "print(bears_2020_away_arr)\n",
    "num_nan_bears_home_2020 = np.isnan(bears_2020_home_arr).sum()\n",
    "\n",
    "season_2020_home_avg = round(np.nansum(bears_2020_home_arr) / (len(bears_2020_home_arr)-num_nan_bears_home_2020),2)\n",
    "print(season_2020_home_avg)\n",
    "num_nan_bears_away_2020 = np.isnan(bears_2020_away_arr).sum()\n",
    "\n",
    "season_2020_away_avg = round(np.nansum(bears_2020_away_arr) / (len(bears_2020_away_arr)-num_nan_bears_away_2020),2)\n",
    "print(season_2020_away_avg)"
   ]
  },
  {
   "cell_type": "code",
   "execution_count": 33,
   "id": "a3102819-e466-481f-9a15-ad198c630f75",
   "metadata": {
    "tags": []
   },
   "outputs": [
    {
     "name": "stdout",
     "output_type": "stream",
     "text": [
      "[0.56, 0.29, 0.3, 0.33, 0.18, 0.36, 0.3, 0.4]\n",
      "[0.18, 0.27, 0.5, 0.29, 0.13, 0.4, 0.5, 0.5, 0.1]\n",
      "0.34\n",
      "0.32\n"
     ]
    }
   ],
   "source": [
    "#Chicago Bears 2020 season, outputting home (Bears) third down conversion rates and away team's conversation rates, with a season avg.\n",
    "schedule_for_bears_2020 = Schedule('CHI', year = 2020)\n",
    "schedule_for_bears_2020.dataframe.boxscore_index\n",
    "conv_third_2020 = schedule_for_bears_2020.dataframe.third_down_conversions\n",
    "att_third_2020 = schedule_for_bears_2020.dataframe.third_down_attempts\n",
    "schedule_for_bears_third_conv_rate_2020 = conv_third_2020 / att_third_2020\n",
    "bears_2020_third_home_arr = []\n",
    "bears_2020_third_away_arr = []\n",
    "bearscodes_2020 = schedule_for_bears_2020.dataframe.boxscore_index\n",
    "\n",
    "reg_home = r'[c][h][i]'\n",
    "#querybears = re.findall(reg_home, code)\n",
    "for code in bearscodes_2020:\n",
    "    querybears = re.findall(reg_home, code)\n",
    "    if querybears:\n",
    "        bears_2020_third_home_arr.append(round(schedule_for_bears_third_conv_rate_2020[code],2))\n",
    "    else:\n",
    "        bears_2020_third_away_arr.append(round(schedule_for_bears_third_conv_rate_2020[code],2))\n",
    "print(bears_2020_third_home_arr)\n",
    "print(bears_2020_third_away_arr)\n",
    "\n",
    "num_nan_bears_third_home_2020 = np.isnan(bears_2020_third_home_arr).sum()\n",
    "season_2020_third_home_avg = round(np.nansum(bears_2020_third_home_arr) / (len(bears_2020_third_home_arr)-num_nan_bears_third_home_2020),2)\n",
    "print(season_2020_third_home_avg)\n",
    "\n",
    "num_nan_bears_third_away_2020 = np.isnan(bears_2020_third_away_arr).sum()\n",
    "season_2020_third_away_avg = round(np.nansum(bears_2020_third_away_arr) / (len(bears_2020_third_away_arr)-num_nan_bears_third_away_2020),2)\n",
    "print(season_2020_third_away_avg)"
   ]
  },
  {
   "cell_type": "code",
   "execution_count": 37,
   "id": "a95595b9-0acd-4cc3-a901-65857aa906fc",
   "metadata": {
    "tags": []
   },
   "outputs": [
    {
     "name": "stdout",
     "output_type": "stream",
     "text": [
      "[0.0, 0.67, 0.5, 1.0, 1.0, nan, nan, 0.0]\n",
      "[1.0, nan, nan, nan, 0.0, 0.0, 0.0, 0.5]\n",
      "0.53\n",
      "0.3\n"
     ]
    }
   ],
   "source": [
    "#Chicago Bears 2019 season, outputting home (Bears) fourth down ocnversion rates and away team's conversation rates, with a season avg.\n",
    "schedule_for_bears_2019 = Schedule('CHI', year = 2019)\n",
    "schedule_for_bears_2019.dataframe.boxscore_index\n",
    "conv_fourth_2019 = schedule_for_bears_2019.dataframe.fourth_down_conversions\n",
    "att_fourth_2019 = schedule_for_bears_2019.dataframe.fourth_down_attempts\n",
    "schedule_for_bears_fourth_conv_rate_2019 = conv_fourth_2019 / att_fourth_2019\n",
    "bears_2019_fourth_home_arr = []\n",
    "bears_2019_fourth_away_arr = []\n",
    "bearscodes_2019 = schedule_for_bears_2019.dataframe.boxscore_index\n",
    "\n",
    "reg_home = r'[c][h][i]'\n",
    "#querybears = re.findall(reg_home, code)\n",
    "for code in bearscodes_2019:\n",
    "    querybears = re.findall(reg_home, code)\n",
    "    if querybears:\n",
    "        bears_2019_fourth_home_arr.append(round(schedule_for_bears_fourth_conv_rate_2019[code],2))\n",
    "    else:\n",
    "        bears_2019_fourth_away_arr.append(round(schedule_for_bears_fourth_conv_rate_2019[code],2))\n",
    "print(bears_2019_fourth_home_arr)\n",
    "print(bears_2019_fourth_away_arr)\n",
    "\n",
    "num_nan_bears_fourth_home_2019 = np.isnan(bears_2019_fourth_home_arr).sum()\n",
    "season_2019_fourth_home_avg = round(np.nansum(bears_2019_fourth_home_arr) / (len(bears_2019_fourth_home_arr)-num_nan_bears_fourth_home_2019),2)\n",
    "print(season_2019_fourth_home_avg)\n",
    "\n",
    "num_nan_bears_fourth_away_2019 = np.isnan(bears_2019_fourth_away_arr).sum()\n",
    "season_2019_fourth_away_avg = round(np.nansum(bears_2019_fourth_away_arr) / (len(bears_2019_fourth_away_arr)-num_nan_bears_fourth_away_2019),2)\n",
    "print(season_2019_fourth_away_avg)\n"
   ]
  },
  {
   "cell_type": "code",
   "execution_count": 34,
   "id": "b59e36b8-7f8c-4f22-9eed-79536cff4c2e",
   "metadata": {
    "tags": []
   },
   "outputs": [
    {
     "name": "stdout",
     "output_type": "stream",
     "text": [
      "[0.2, 0.31, 0.17, 0.36, 0.17, 0.27, 0.58, 0.42]\n",
      "[0.27, 0.62, 0.36, 0.2, 0.35, 0.5, 0.45, 0.44]\n",
      "0.31\n",
      "0.4\n"
     ]
    }
   ],
   "source": [
    "#Chicago Bears 2019 season, outputting home (Bears) third down conversion rates and away team's conversation rates, with a season avg.\n",
    "schedule_for_bears_2019 = Schedule('CHI', year = 2019)\n",
    "schedule_for_bears_2019.dataframe.boxscore_index\n",
    "conv_third_2019 = schedule_for_bears_2019.dataframe.third_down_conversions\n",
    "att_third_2019 = schedule_for_bears_2019.dataframe.third_down_attempts\n",
    "schedule_for_bears_third_conv_rate_2019 = conv_third_2019 / att_third_2019\n",
    "bears_2019_third_home_arr = []\n",
    "bears_2019_third_away_arr = []\n",
    "bearscodes_2019 = schedule_for_bears_2019.dataframe.boxscore_index\n",
    "\n",
    "reg_home = r'[c][h][i]'\n",
    "#querybears = re.findall(reg_home, code)\n",
    "for code in bearscodes_2019:\n",
    "    querybears = re.findall(reg_home, code)\n",
    "    if querybears:\n",
    "        bears_2019_third_home_arr.append(round(schedule_for_bears_third_conv_rate_2019[code],2))\n",
    "    else:\n",
    "        bears_2019_third_away_arr.append(round(schedule_for_bears_third_conv_rate_2019[code],2))\n",
    "print(bears_2019_third_home_arr)\n",
    "print(bears_2019_third_away_arr)\n",
    "\n",
    "num_nan_bears_third_home_2019 = np.isnan(bears_2019_third_home_arr).sum()\n",
    "season_2019_third_home_avg = round(np.nansum(bears_2019_third_home_arr) / (len(bears_2019_third_home_arr)-num_nan_bears_third_home_2019),2)\n",
    "print(season_2019_third_home_avg)\n",
    "\n",
    "num_nan_bears_third_away_2019 = np.isnan(bears_2019_third_away_arr).sum()\n",
    "season_2019_third_away_avg = round(np.nansum(bears_2019_third_away_arr) / (len(bears_2019_third_away_arr)-num_nan_bears_third_away_2019),2)\n",
    "print(season_2019_third_away_avg)"
   ]
  },
  {
   "cell_type": "code",
   "execution_count": 49,
   "id": "b88480a9-8585-44f9-884c-12fbf9f06f72",
   "metadata": {
    "tags": []
   },
   "outputs": [],
   "source": [
    "#Iterate through 2017-2020 for Chicago Bears, identifying their fourth down success rate across entire Mitchell Trubisky career\n",
    "fourth_down_years_home_arr = []\n",
    "fourth_down_years_away_arr = []\n",
    "\n",
    "schedule_for_bears.dataframe.boxscore_index\n",
    "conv = schedule_for_bears.dataframe.fourth_down_conversions\n",
    "att = schedule_for_bears.dataframe.fourth_down_attempts\n",
    "\n",
    "bearscodes = schedule_for_bears.dataframe.boxscore_index\n",
    "\n",
    "def append_conv_rate_fourth_down():\n",
    "    reg_home = r'[c][h][i]'\n",
    "    for i in range(2017,2021):\n",
    "        schedule = Schedule('CHI', i)\n",
    "        game_indices = schedule.dataframe.boxscore_index\n",
    "        for game in game_indices:\n",
    "            querybears = re.findall(reg_home, game)\n",
    "            conv = schedule.dataframe.fourth_down_conversions\n",
    "            att = schedule.dataframe.fourth_down_attempts\n",
    "            conv_rate = conv/att\n",
    "            if querybears:\n",
    "                fourth_down_years_home_arr.append(round(conv_rate[game],2))\n",
    "            else:\n",
    "                fourth_down_years_away_arr.append(round(conv_rate[game],2))\n",
    "    return fourth_down_years_home_arr, fourth_down_years_away_arr\n",
    "\n"
   ]
  },
  {
   "cell_type": "code",
   "execution_count": 50,
   "id": "183c3881-6913-4f6d-85e0-34659e74ce6d",
   "metadata": {},
   "outputs": [],
   "source": [
    "fourth_down_years_home_arr, fourth_down_years_away_arr = append_conv_rate_fourth_down()"
   ]
  },
  {
   "cell_type": "code",
   "execution_count": 51,
   "id": "e89ef617-ddc2-4c54-b1bd-e22ee003b60c",
   "metadata": {
    "tags": []
   },
   "outputs": [
    {
     "name": "stdout",
     "output_type": "stream",
     "text": [
      "[0.5, nan, 1.0, nan, 0.0, 1.0, nan, 1.0, 1.0, nan, 1.0, 1.0, nan, nan, nan, 0.0, nan, 0.0, 0.67, 0.5, 1.0, 1.0, nan, nan, 0.0, 1.0, nan, nan, 0.67, 0.0, 0.0, nan, 0.83]\n",
      "[0.0, 1.0, nan, 0.0, 0.0, 0.5, 0.0, 0.0, 0.0, 1.0, 0.0, nan, nan, 0.8, 1.0, 0.0, 1.0, nan, nan, nan, 0.0, 0.0, 0.0, 0.5, 0.5, 0.5, nan, 0.25, 0.75, 1.0, nan, 1.0, 0.0]\n",
      "0.61\n",
      "0.39\n"
     ]
    }
   ],
   "source": [
    "print(fourth_down_years_home_arr)\n",
    "print(fourth_down_years_away_arr)\n",
    "years_home_fourth_avg = round(np.nansum(fourth_down_years_home_arr) / (len(fourth_down_years_home_arr)-13),2)\n",
    "\n",
    "print(years_home_fourth_avg)\n",
    "years_away_fourth_avg = round(np.nansum(fourth_down_years_away_arr) / (len(fourth_down_years_away_arr)-8),2)\n",
    "print(years_away_fourth_avg)\n"
   ]
  },
  {
   "cell_type": "code",
   "execution_count": 21,
   "id": "5942c9c5-e1b5-4e6c-8fbf-9fe806374ab2",
   "metadata": {
    "tags": []
   },
   "outputs": [],
   "source": [
    "#Iterate through 2017-2020 for Chicago Bears, identifying their third down success rate across entire Mitchell Trubisky career\n",
    "\n",
    "third_down_years_home_arr = []\n",
    "third_down_years_away_arr = []\n",
    "\n",
    "schedule_for_bears.dataframe.boxscore_index\n",
    "conv = schedule_for_bears.dataframe.fourth_down_conversions\n",
    "att = schedule_for_bears.dataframe.fourth_down_attempts\n",
    "\n",
    "bearscodes = schedule_for_bears.dataframe.boxscore_index\n",
    "\n",
    "def append_conv_rate_third_down():\n",
    "    reg_home = r'[c][h][i]'\n",
    "    for i in range(2017,2021):\n",
    "        schedule = Schedule('CHI', i)\n",
    "        game_indices = schedule.dataframe.boxscore_index\n",
    "        for game in game_indices:\n",
    "            querybears = re.findall(reg_home, game)\n",
    "            conv = schedule.dataframe.third_down_conversions\n",
    "            att = schedule.dataframe.third_down_attempts\n",
    "            conv_rate = conv/att\n",
    "            if querybears:\n",
    "                third_down_years_home_arr.append(round(conv_rate[game],2))\n",
    "            else:\n",
    "                third_down_years_away_arr.append(round(conv_rate[game],2))\n",
    "    return third_down_years_home_arr, third_down_years_away_arr"
   ]
  },
  {
   "cell_type": "code",
   "execution_count": 22,
   "id": "972965d3-aa6b-4a5e-b7bb-ec0ab240263a",
   "metadata": {},
   "outputs": [],
   "source": [
    "third_down_years_home_arr, third_down_years_away_arr = append_conv_rate_third_down()"
   ]
  },
  {
   "cell_type": "code",
   "execution_count": 1,
   "id": "5bbdbd51-2672-49bb-80f7-b31a084310a3",
   "metadata": {
    "tags": []
   },
   "outputs": [
    {
     "ename": "NameError",
     "evalue": "name 'third_down_years_home_arr' is not defined",
     "output_type": "error",
     "traceback": [
      "\u001b[0;31m---------------------------------------------------------------------------\u001b[0m",
      "\u001b[0;31mNameError\u001b[0m                                 Traceback (most recent call last)",
      "Input \u001b[0;32mIn [1]\u001b[0m, in \u001b[0;36m<module>\u001b[0;34m\u001b[0m\n\u001b[0;32m----> 1\u001b[0m \u001b[38;5;28mprint\u001b[39m(\u001b[43mthird_down_years_home_arr\u001b[49m)\n\u001b[1;32m      2\u001b[0m \u001b[38;5;28mprint\u001b[39m(third_down_years_away_arr)\n\u001b[1;32m      3\u001b[0m years_home_third_avg \u001b[38;5;241m=\u001b[39m \u001b[38;5;28mround\u001b[39m(np\u001b[38;5;241m.\u001b[39mnansum(third_down_years_home_arr) \u001b[38;5;241m/\u001b[39m (\u001b[38;5;28mlen\u001b[39m(third_down_years_home_arr)\u001b[38;5;241m-\u001b[39m\u001b[38;5;241m13\u001b[39m),\u001b[38;5;241m2\u001b[39m)\n",
      "\u001b[0;31mNameError\u001b[0m: name 'third_down_years_home_arr' is not defined"
     ]
    }
   ],
   "source": [
    "print(third_down_years_home_arr)\n",
    "print(third_down_years_away_arr)\n",
    "years_home_third_avg = round(np.nansum(third_down_years_home_arr) / (len(third_down_years_home_arr)-13),2)\n",
    "\n",
    "print(years_home_third_avg)\n",
    "years_away_third_avg = round(np.nansum(third_down_years_away_arr) / (len(third_down_years_away_arr)-8),2)\n",
    "print(years_away_third_avg)"
   ]
  },
  {
   "cell_type": "code",
   "execution_count": 86,
   "id": "e76938c5-267a-4367-a076-44e007af9bd0",
   "metadata": {},
   "outputs": [],
   "source": [
    "#Using Boxscore after this to grab Bear's away game's fourth and third down conversion rates!!\n",
    "#\n",
    "#\n",
    "#\n",
    "#\n",
    "#"
   ]
  },
  {
   "cell_type": "code",
   "execution_count": 23,
   "id": "7932f2dc-36fa-4cde-a38d-3ebefe22ff3d",
   "metadata": {},
   "outputs": [
    {
     "name": "stdout",
     "output_type": "stream",
     "text": [
      "2021 Home Fourth Down Conversion Rate: [0.0, 1.0, 0.5, 1.0, 0.67, 1.0, 0.4, 0.67]\n",
      "2021 Home Fourth Down Conversion Average: 0.66\n",
      "2021 Away Fourth Down Conversion Rate: [0.0, 0.0, nan, 0.0, nan, nan, 0.0, 0.33, 0.17]\n",
      "2021 Away Fourth Down Conversion Average: 0.08\n"
     ]
    }
   ],
   "source": [
    "#Chicago Bears 2021 season, outputting home (Bears) fourth down conversion rates with a season avg.\n",
    "schedule_for_bears_2021 = Schedule('CHI', year = 2021)\n",
    "bears_2021_fourth_home_arr = []\n",
    "bears_2021_fourth_away_arr = []\n",
    "bearscodes_2021 = schedule_for_bears_2021.dataframe.boxscore_index\n",
    "\n",
    "reg_home = r'[c][h][i]'\n",
    "for code in bearscodes_2021:\n",
    "    querybears = re.findall(reg_home, code)\n",
    "    game = Boxscore(code)\n",
    "    if querybears:\n",
    "        home_fourth_down_att = game.home_fourth_down_attempts\n",
    "        home_fourth_down_conv = game.home_fourth_down_conversions\n",
    "        if home_fourth_down_att == 0:\n",
    "            home_fourth_down_rate = np.nan\n",
    "        else:\n",
    "            home_fourth_down_rate = home_fourth_down_conv/home_fourth_down_att\n",
    "        bears_2021_fourth_home_arr.append(round(home_fourth_down_rate,2))\n",
    "    else:\n",
    "        away_fourth_down_att = game.away_fourth_down_attempts\n",
    "        away_fourth_down_conv = game.away_fourth_down_conversions\n",
    "        if away_fourth_down_att == 0:\n",
    "            away_fourth_down_rate = np.nan\n",
    "        else:\n",
    "            away_fourth_down_rate = away_fourth_down_conv/away_fourth_down_att\n",
    "        bears_2021_fourth_away_arr.append(round(away_fourth_down_rate,2))\n",
    "        \n",
    "print(\"2021 Home Fourth Down Conversion Rate:\",bears_2021_fourth_home_arr)\n",
    "num_nan_bears_fourth_home_2021 = np.isnan(bears_2021_fourth_home_arr).sum()\n",
    "season_2021_fourth_home_avg = round(np.nansum(bears_2021_fourth_home_arr) / (len(bears_2021_fourth_home_arr)-num_nan_bears_fourth_home_2021),2)\n",
    "print(\"2021 Home Fourth Down Conversion Average:\",season_2021_fourth_home_avg)\n",
    "\n",
    "print(\"2021 Away Fourth Down Conversion Rate:\", bears_2021_fourth_away_arr)\n",
    "num_nan_bears_fourth_away_2021 = np.isnan(bears_2021_fourth_away_arr).sum()\n",
    "season_2021_fourth_away_avg = round(np.nansum(bears_2021_fourth_away_arr) / (len(bears_2021_fourth_away_arr)-num_nan_bears_fourth_away_2021),2)\n",
    "print(\"2021 Away Fourth Down Conversion Average:\",season_2021_fourth_away_avg)"
   ]
  },
  {
   "cell_type": "code",
   "execution_count": 24,
   "id": "195d392a-dbc9-418c-9017-d5d33e509694",
   "metadata": {},
   "outputs": [
    {
     "name": "stdout",
     "output_type": "stream",
     "text": [
      "[0.0, 1.0, 0.5, 1.0, 0.67, 1.0, 0.4, 0.67, 0.0, 0.0, nan, 0.0, nan, nan, 0.0, 0.33, 0.17]\n"
     ]
    }
   ],
   "source": [
    "bears_2021_season_fourth_down_rate = bears_2021_fourth_home_arr + bears_2021_fourth_away_arr\n",
    "print(bears_2021_season_fourth_down_rate)"
   ]
  },
  {
   "cell_type": "code",
   "execution_count": 81,
   "id": "d55e7123-abdf-40fb-bfb4-b584d8eb8e7a",
   "metadata": {},
   "outputs": [
    {
     "name": "stdout",
     "output_type": "stream",
     "text": [
      "2021 Home Third Down Conversion Rate: [0.4, 0.12, 0.36, 0.53, 0.18, 0.4, 0.17, 0.38]\n",
      "2021 Home Third Down Conversion Average: 0.32\n",
      "2021 Away Third Down Conversion Rate: [0.45, 0.09, 0.46, 0.18, 0.33, 0.38, 0.38, 0.5, 0.33]\n",
      "2021 Away Third Down Conversion Average: 0.34\n"
     ]
    }
   ],
   "source": [
    "#Chicago Bears 2021 season, outputting Bears third down conversion rates with a season avg.\n",
    "schedule_for_bears_2021 = Schedule('CHI', year = 2021)\n",
    "bears_2021_third_home_arr = []\n",
    "bears_2021_third_away_arr = []\n",
    "bearscodes_2021 = schedule_for_bears_2021.dataframe.boxscore_index\n",
    "\n",
    "reg_home = r'[c][h][i]'\n",
    "for code in bearscodes_2021:\n",
    "    querybears = re.findall(reg_home, code)\n",
    "    game = Boxscore(code)\n",
    "    if querybears:\n",
    "        home_third_down_att = game.home_third_down_attempts\n",
    "        home_third_down_conv = game.home_third_down_conversions\n",
    "        if home_third_down_att == 0:\n",
    "            home_third_down_rate = np.nan\n",
    "        else:\n",
    "            home_third_down_rate = home_third_down_conv/home_third_down_att\n",
    "        bears_2021_third_home_arr.append(round(home_third_down_rate,2))\n",
    "    else:\n",
    "        away_third_down_att = game.away_third_down_attempts\n",
    "        away_third_down_conv = game.away_third_down_conversions\n",
    "        if away_third_down_att == 0:\n",
    "            away_third_down_rate = np.nan\n",
    "        else:\n",
    "            away_third_down_rate = away_third_down_conv/away_third_down_att\n",
    "        bears_2021_third_away_arr.append(round(away_third_down_rate,2))\n",
    "        \n",
    "print(\"2021 Home Third Down Conversion Rate:\",bears_2021_third_home_arr)\n",
    "num_nan_bears_third_home_2021 = np.isnan(bears_2021_third_home_arr).sum()\n",
    "season_2021_third_home_avg = round(np.nansum(bears_2021_third_home_arr) / (len(bears_2021_third_home_arr)-num_nan_bears_third_home_2021),2)\n",
    "print(\"2021 Home Third Down Conversion Average:\",season_2021_third_home_avg)\n",
    "\n",
    "print(\"2021 Away Third Down Conversion Rate:\", bears_2021_third_away_arr)\n",
    "num_nan_bears_third_away_2021 = np.isnan(bears_2021_third_away_arr).sum()\n",
    "season_2021_third_away_avg = round(np.nansum(bears_2021_third_away_arr) / (len(bears_2021_third_away_arr)-num_nan_bears_third_away_2021),2)\n",
    "print(\"2021 Away Third Down Conversion Average:\",season_2021_third_away_avg)"
   ]
  },
  {
   "cell_type": "code",
   "execution_count": 82,
   "id": "944d05ba-fbb9-45f8-b62f-83cb1817d700",
   "metadata": {},
   "outputs": [
    {
     "name": "stdout",
     "output_type": "stream",
     "text": [
      "2020 Home Fourth Down Conversion Rate: [1.0, nan, nan, 0.67, 0.0, 0.0, nan, 0.83]\n",
      "2020 Home Fourth Down Conversion Average: 0.5\n",
      "2020 Away Fourth Down Conversion Rate: [0.5, 0.5, nan, 0.25, 0.75, 1.0, nan, 1.0, 0.0]\n",
      "2020 Away Fourth Down Conversion Average: 0.57\n"
     ]
    }
   ],
   "source": [
    "#Chicago Bears 2020 season, outputting Bears fourth down conversion rates with a season avg.\n",
    "schedule_for_bears_2020 = Schedule('CHI', year = 2020)\n",
    "schedule_for_bears_2020.dataframe.boxscore_index\n",
    "bears_2020_fourth_home_arr = []\n",
    "bears_2020_fourth_away_arr = []\n",
    "bearscodes_2020 = schedule_for_bears_2020.dataframe.boxscore_index\n",
    "\n",
    "reg_home = r'[c][h][i]'\n",
    "for code in bearscodes_2020:\n",
    "    querybears = re.findall(reg_home, code)\n",
    "    game = Boxscore(code)\n",
    "    if querybears:\n",
    "        home_fourth_down_att = game.home_fourth_down_attempts\n",
    "        home_fourth_down_conv = game.home_fourth_down_conversions\n",
    "        if home_fourth_down_att == 0:\n",
    "            home_fourth_down_rate = np.nan\n",
    "        else:\n",
    "            home_fourth_down_rate = home_fourth_down_conv/home_fourth_down_att\n",
    "        bears_2020_fourth_home_arr.append(round(home_fourth_down_rate,2))\n",
    "    else:\n",
    "        away_fourth_down_att = game.away_fourth_down_attempts\n",
    "        away_fourth_down_conv = game.away_fourth_down_conversions\n",
    "        if away_fourth_down_att == 0:\n",
    "            away_fourth_down_rate = np.nan\n",
    "        else:\n",
    "            away_fourth_down_rate = away_fourth_down_conv/away_fourth_down_att\n",
    "        bears_2020_fourth_away_arr.append(round(away_fourth_down_rate,2))\n",
    "        \n",
    "print(\"2020 Home Fourth Down Conversion Rate:\",bears_2020_fourth_home_arr)\n",
    "num_nan_bears_fourth_home_2020 = np.isnan(bears_2020_fourth_home_arr).sum()\n",
    "season_2020_fourth_home_avg = round(np.nansum(bears_2020_fourth_home_arr) / (len(bears_2020_fourth_home_arr)-num_nan_bears_fourth_home_2020),2)\n",
    "print(\"2020 Home Fourth Down Conversion Average:\",season_2020_fourth_home_avg)\n",
    "\n",
    "print(\"2020 Away Fourth Down Conversion Rate:\", bears_2020_fourth_away_arr)\n",
    "num_nan_bears_fourth_away_2020 = np.isnan(bears_2020_fourth_away_arr).sum()\n",
    "season_2020_fourth_away_avg = round(np.nansum(bears_2020_fourth_away_arr) / (len(bears_2020_fourth_away_arr)-num_nan_bears_fourth_away_2020),2)\n",
    "print(\"2020 Away Fourth Down Conversion Average:\",season_2020_fourth_away_avg)"
   ]
  },
  {
   "cell_type": "code",
   "execution_count": 63,
   "id": "861ba8d1-14df-4903-b0c1-67a5d13f97cd",
   "metadata": {},
   "outputs": [],
   "source": [
    "#Iterate through 2017-2020 for Chicago Bears, identifying their fourth down success rate across entire Mitchell Trubisky career\n",
    "bears_years_fourth_home_arr = []\n",
    "bears_years_fourth_away_arr = []\n",
    "\n",
    "def append_conv_rate_fourth_down():\n",
    "    reg_home = r'[c][h][i]'\n",
    "    for i in range(2017,2021):\n",
    "        schedule = Schedule('CHI', i)\n",
    "        game_indices = schedule.dataframe.boxscore_index\n",
    "        for game in game_indices:\n",
    "            querybears = re.findall(reg_home, game)\n",
    "            boxscore = Boxscore(game)\n",
    "            if querybears:\n",
    "                home_fourth_down_att = boxscore.home_fourth_down_attempts\n",
    "                home_fourth_down_conv = boxscore.home_fourth_down_conversions\n",
    "                if home_fourth_down_att == 0:\n",
    "                    home_fourth_down_rate = np.nan\n",
    "                else:\n",
    "                    home_fourth_down_rate = home_fourth_down_conv/home_fourth_down_att\n",
    "                bears_years_fourth_home_arr.append(round(home_fourth_down_rate,2))\n",
    "            else:\n",
    "                away_fourth_down_att = boxscore.away_fourth_down_attempts\n",
    "                away_fourth_down_conv = boxscore.away_fourth_down_conversions\n",
    "                if away_fourth_down_att == 0:\n",
    "                    away_fourth_down_rate = np.nan\n",
    "                else:\n",
    "                    away_fourth_down_rate = away_fourth_down_conv/away_fourth_down_att\n",
    "                bears_years_fourth_away_arr.append(round(away_fourth_down_rate,2))\n",
    "    return bears_years_fourth_home_arr, bears_years_fourth_away_arr"
   ]
  },
  {
   "cell_type": "code",
   "execution_count": 64,
   "id": "8cb0ea4d-689f-4696-899a-df048fd3db8d",
   "metadata": {},
   "outputs": [],
   "source": [
    "bears_years_fourth_home_arr,bears_years_fourth_away_arr = append_conv_rate_fourth_down()"
   ]
  },
  {
   "cell_type": "code",
   "execution_count": 66,
   "id": "2ec3e1b3-80a9-4f75-a81c-e37c4148989a",
   "metadata": {},
   "outputs": [
    {
     "name": "stdout",
     "output_type": "stream",
     "text": [
      "[0.5, nan, 1.0, nan, 0.0, 1.0, nan, 1.0, 1.0, nan, 1.0, 1.0, nan, nan, nan, 0.0, nan, 0.0, 0.67, 0.5, 1.0, 1.0, nan, nan, 0.0, 1.0, nan, nan, 0.67, 0.0, 0.0, nan, 0.83]\n",
      "[0.0, 1.0, nan, 0.0, 0.0, 0.5, 0.0, 0.0, 0.0, 1.0, 0.0, nan, nan, 0.8, 1.0, 0.0, 1.0, nan, nan, nan, 0.0, 0.0, 0.0, 0.5, 0.5, 0.5, nan, 0.25, 0.75, 1.0, nan, 1.0, 0.0]\n",
      "0.61\n",
      "0.39\n"
     ]
    }
   ],
   "source": [
    "print(bears_years_fourth_home_arr)\n",
    "print(bears_years_fourth_away_arr)\n",
    "\n",
    "years_home_fourth_avg = round(np.nansum(bears_years_fourth_home_arr) / (len(bears_years_fourth_home_arr)-13),2)\n",
    "print(years_home_fourth_avg)\n",
    "\n",
    "years_away_fourth_avg = round(np.nansum(bears_years_fourth_away_arr) / (len(bears_years_fourth_away_arr)-8),2)\n",
    "print(years_away_fourth_avg)"
   ]
  },
  {
   "cell_type": "code",
   "execution_count": 88,
   "id": "11a9320c-ed23-4c2b-95e1-6adb28d6bdd3",
   "metadata": {},
   "outputs": [],
   "source": [
    "#Iterate through 2017-2020 for Chicago Bears, identifying their third down success rate across entire Mitchell Trubisky career\n",
    "bears_years_third_home_arr = []\n",
    "bears_years_third_away_arr = []\n",
    "\n",
    "def append_conv_rate_third_down():\n",
    "    reg_home = r'[c][h][i]'\n",
    "    for i in range(2017,2021):\n",
    "        schedule = Schedule('CHI', i)\n",
    "        game_indices = schedule.dataframe.boxscore_index\n",
    "        for game in game_indices:\n",
    "            querybears = re.findall(reg_home, game)\n",
    "            boxscore = Boxscore(game)\n",
    "            if querybears:\n",
    "                home_third_down_att = boxscore.home_third_down_attempts\n",
    "                home_third_down_conv = boxscore.home_third_down_conversions\n",
    "                if home_third_down_att == 0:\n",
    "                    home_third_down_rate = np.nan\n",
    "                else:\n",
    "                    home_third_down_rate = home_third_down_conv/home_third_down_att\n",
    "                bears_years_third_home_arr.append(round(home_third_down_rate,2))\n",
    "            else:\n",
    "                away_third_down_att = boxscore.away_third_down_attempts\n",
    "                away_third_down_conv = boxscore.away_third_down_conversions\n",
    "                if away_third_down_att == 0:\n",
    "                    away_third_down_rate = np.nan\n",
    "                else:\n",
    "                    away_third_down_rate = away_third_down_conv/away_third_down_att\n",
    "                bears_years_third_away_arr.append(round(away_third_down_rate,2))\n",
    "    return bears_years_third_home_arr, bears_years_third_away_arr"
   ]
  },
  {
   "cell_type": "code",
   "execution_count": 89,
   "id": "7cf83b90-0199-4230-ad27-11c6eec5912c",
   "metadata": {},
   "outputs": [],
   "source": [
    "bears_years_third_home_arr,bears_years_third_away_arr = append_conv_rate_fourth_down()"
   ]
  },
  {
   "cell_type": "code",
   "execution_count": 90,
   "id": "d2fe770f-32f2-446c-a229-11916ec12908",
   "metadata": {},
   "outputs": [
    {
     "name": "stdout",
     "output_type": "stream",
     "text": [
      "[0.38, 0.33, 0.25, 0.18, 0.29, 0.33, 0.5, 0.44, 0.42, 0.5, 0.5, 0.33, 0.4, 0.5, 0.44, 0.3, 0.31, 0.2, 0.31, 0.17, 0.36, 0.17, 0.27, 0.58, 0.42, 0.56, 0.29, 0.3, 0.33, 0.18, 0.36, 0.3, 0.4]\n",
      "[0.5, 0.42, 0.29, 0.47, 0.23, 0.36, 0.42, 0.08, 0.41, 0.36, 0.67, 0.27, 0.3, 0.13, 0.45, 0.57, 0.27, 0.62, 0.36, 0.2, 0.35, 0.5, 0.45, 0.44, 0.18, 0.27, 0.5, 0.29, 0.13, 0.4, 0.5, 0.5, 0.1]\n",
      "0.58\n",
      "0.48\n"
     ]
    }
   ],
   "source": [
    "print(bears_years_third_home_arr)\n",
    "print(bears_years_third_away_arr)\n",
    "\n",
    "years_home_third_avg = round(np.nansum(bears_years_third_home_arr) / (len(bears_years_third_home_arr)-13),2)\n",
    "print(years_home_third_avg)\n",
    "\n",
    "years_away_third_avg = round(np.nansum(bears_years_third_away_arr) / (len(bears_years_third_away_arr)-8),2)\n",
    "print(years_away_third_avg)"
   ]
  },
  {
   "cell_type": "code",
   "execution_count": 21,
   "id": "f26c3675-7b66-4ba2-b009-8f8c020810b5",
   "metadata": {},
   "outputs": [
    {
     "name": "stdout",
     "output_type": "stream",
     "text": [
      "{'Dallas Cowboys': 'DAL', 'Tampa Bay Buccaneers': 'TAM', 'Buffalo Bills': 'BUF', 'Kansas City Chiefs': 'KAN', 'Los Angeles Chargers': 'SDG', 'New England Patriots': 'NWE', 'Cincinnati Bengals': 'CIN', 'Los Angeles Rams': 'RAM', 'Indianapolis Colts': 'CLT', 'Green Bay Packers': 'GNB', 'Arizona Cardinals': 'CRD', 'Philadelphia Eagles': 'PHI', 'San Francisco 49ers': 'SFO', 'Minnesota Vikings': 'MIN', 'Tennessee Titans': 'OTI', 'Seattle Seahawks': 'SEA', 'Baltimore Ravens': 'RAV', 'Las Vegas Raiders': 'RAI', 'New Orleans Saints': 'NOR', 'Cleveland Browns': 'CLE', 'Pittsburgh Steelers': 'PIT', 'Miami Dolphins': 'MIA', 'Denver Broncos': 'DEN', 'Washington Football Team': 'WAS', 'Detroit Lions': 'DET', 'Atlanta Falcons': 'ATL', 'Chicago Bears': 'CHI', 'New York Jets': 'NYJ', 'Carolina Panthers': 'CAR', 'Houston Texans': 'HTX', 'New York Giants': 'NYG', 'Jacksonville Jaguars': 'JAX'}\n"
     ]
    }
   ],
   "source": [
    "teams = Teams()\n",
    "abbr = {}\n",
    "for team in teams:\n",
    "    abbr[team.name] = team.abbreviation\n",
    "print(abbr)"
   ]
  },
  {
   "cell_type": "code",
   "execution_count": 28,
   "id": "1d07e6f6-cd9c-42e9-b74a-3ea244b91d23",
   "metadata": {},
   "outputs": [
    {
     "name": "stdout",
     "output_type": "stream",
     "text": [
      "{'Dallas Cowboys': 'DAL', 'Tampa Bay Buccaneers': 'TAM', 'Buffalo Bills': 'BUF', 'Kansas City Chiefs': 'KAN', 'Los Angeles Chargers': 'SDG', 'New England Patriots': 'NWE', 'Cincinnati Bengals': 'CIN', 'Los Angeles Rams': 'RAM', 'Indianapolis Colts': 'CLT', 'Green Bay Packers': 'GNB', 'Arizona Cardinals': 'CRD', 'Philadelphia Eagles': 'PHI', 'San Francisco 49ers': 'SFO', 'Minnesota Vikings': 'MIN', 'Tennessee Titans': 'OTI', 'Seattle Seahawks': 'SEA', 'Baltimore Ravens': 'RAV', 'Las Vegas Raiders': 'RAI', 'New Orleans Saints': 'NOR', 'Cleveland Browns': 'CLE', 'Pittsburgh Steelers': 'PIT', 'Miami Dolphins': 'MIA', 'Denver Broncos': 'DEN', 'Washington Football Team': 'WAS', 'Detroit Lions': 'DET', 'Atlanta Falcons': 'ATL', 'Chicago Bears': 'CHI', 'New York Jets': 'NYJ', 'Carolina Panthers': 'CAR', 'Houston Texans': 'HTX', 'New York Giants': 'NYG', 'Jacksonville Jaguars': 'JAX'}\n"
     ]
    },
    {
     "ename": "NameError",
     "evalue": "name 'dcc' is not defined",
     "output_type": "error",
     "traceback": [
      "\u001b[0;31m---------------------------------------------------------------------------\u001b[0m",
      "\u001b[0;31mNameError\u001b[0m                                 Traceback (most recent call last)",
      "Input \u001b[0;32mIn [28]\u001b[0m, in \u001b[0;36m<module>\u001b[0;34m\u001b[0m\n\u001b[1;32m      6\u001b[0m     team_abbr[team\u001b[38;5;241m.\u001b[39mname] \u001b[38;5;241m=\u001b[39m team\u001b[38;5;241m.\u001b[39mabbreviation\n\u001b[1;32m      7\u001b[0m \u001b[38;5;28mprint\u001b[39m(team_abbr)\n\u001b[0;32m----> 9\u001b[0m \u001b[43mdcc\u001b[49m\u001b[38;5;241m.\u001b[39mTab(label\u001b[38;5;241m=\u001b[39m\u001b[38;5;124m'\u001b[39m\u001b[38;5;124mFourth Down Rate\u001b[39m\u001b[38;5;124m'\u001b[39m, children\u001b[38;5;241m=\u001b[39m[\n\u001b[1;32m     10\u001b[0m             dcc\u001b[38;5;241m.\u001b[39mGraph(figure \u001b[38;5;241m=\u001b[39m airtrafficgraph, \u001b[38;5;28mid\u001b[39m \u001b[38;5;241m=\u001b[39m \u001b[38;5;124m'\u001b[39m\u001b[38;5;124mfourth-down-rate-graph\u001b[39m\u001b[38;5;124m'\u001b[39m),\n\u001b[1;32m     11\u001b[0m             html\u001b[38;5;241m.\u001b[39mDiv([\n\u001b[1;32m     12\u001b[0m                 dcc\u001b[38;5;241m.\u001b[39mRadioItems(\n\u001b[1;32m     13\u001b[0m                     \u001b[38;5;28mlist\u001b[39m(team_abbr\u001b[38;5;241m.\u001b[39mkeys()),\n\u001b[1;32m     14\u001b[0m                     value \u001b[38;5;241m=\u001b[39m \u001b[38;5;124m'\u001b[39m\u001b[38;5;124mCHI\u001b[39m\u001b[38;5;124m'\u001b[39m,\n\u001b[1;32m     15\u001b[0m                     \u001b[38;5;28mid\u001b[39m\u001b[38;5;241m=\u001b[39m\u001b[38;5;124m'\u001b[39m\u001b[38;5;124mteams-names\u001b[39m\u001b[38;5;124m'\u001b[39m\n\u001b[1;32m     16\u001b[0m                 ),\n\u001b[1;32m     17\u001b[0m                 html\u001b[38;5;241m.\u001b[39mHr(),\n\u001b[1;32m     18\u001b[0m                 dcc\u001b[38;5;241m.\u001b[39mRadioItems(\n\u001b[1;32m     19\u001b[0m                     \u001b[38;5;28mid\u001b[39m\u001b[38;5;241m=\u001b[39m\u001b[38;5;124m'\u001b[39m\u001b[38;5;124myears\u001b[39m\u001b[38;5;124m'\u001b[39m\n\u001b[1;32m     20\u001b[0m                 ),\n\u001b[1;32m     21\u001b[0m                 html\u001b[38;5;241m.\u001b[39mHr(),\n\u001b[1;32m     22\u001b[0m                 html\u001b[38;5;241m.\u001b[39mDiv(\u001b[38;5;28mid\u001b[39m\u001b[38;5;241m=\u001b[39m\u001b[38;5;124m'\u001b[39m\u001b[38;5;124mdisplay-selected-values\u001b[39m\u001b[38;5;124m'\u001b[39m)\n\u001b[1;32m     23\u001b[0m             ])\n\u001b[1;32m     24\u001b[0m         ])\n",
      "\u001b[0;31mNameError\u001b[0m: name 'dcc' is not defined"
     ]
    }
   ],
   "source": [
    "#Creating options for the chained callback with years and team names/abbreviations\n",
    "years_options = ['2021', '2020','2019','2018','2017','2016','2015','2014','2013','2012','2011','2010','2009','2008','2007','2006',\n",
    "'2005','2004','2003','2002']\n",
    "teams = Teams()\n",
    "team_abbr = {}\n",
    "for team in teams:\n",
    "    team_abbr[team.name] = team.abbreviation\n",
    "print(team_abbr)\n",
    "\n",
    "#Creating initial data for initial graph in the tab\n",
    "schedule = Schedule('CHI', year = 2021)\n",
    "schedule.dataframe.columns\n",
    "fourth_down_conv = schedule.dataframe.fourth_down_conversions\n",
    "fourth_down_att = schedule.dataframe.fourth_down_attempts\n",
    "fourth_down_rate = fourth_down_conv/fourth_down_att\n",
    "print(fourth_down_rate)\n",
    "bearsgraph = px.scatter(x = fourth_down_rate.index, y = fourth_down_rate)\n",
    "\n",
    "dcc.Tab(label='Fourth Down Rate', children=[\n",
    "            dcc.Graph(figure = bearsgraph, id = 'fourth-down-rate-graph'),\n",
    "            html.Div([\n",
    "                dcc.RadioItems(\n",
    "                    list(team_abbr.keys()),\n",
    "                    value = 'CHI',\n",
    "                    id='teams-names'\n",
    "                ),\n",
    "                html.Hr(),\n",
    "                dcc.RadioItems(\n",
    "                    id='years'\n",
    "                ),\n",
    "                html.Hr(),\n",
    "                html.Div(id='display-selected-values')\n",
    "            ])\n",
    "        ])"
   ]
  },
  {
   "cell_type": "code",
   "execution_count": null,
   "id": "e87bd014-81a4-4463-8517-70bd68163270",
   "metadata": {},
   "outputs": [],
   "source": [
    "@app.callback(\n",
    "    Output('years', 'options'),\n",
    "    Input('teams-names', 'value')\n",
    ")\n",
    "def set_airport_options(selected_teams):\n",
    "    return [{'label': team, 'value': team} for team in team_abbr[selected_teams]]\n",
    "\n",
    "@app.callback(\n",
    "    Output('years', 'value'),\n",
    "    Input('years', 'options')\n",
    ")\n",
    "def set_airport_value(available_options):\n",
    "    return available_options[0]['value']\n",
    "\n",
    "@app.callback(\n",
    "    Output(component_id = 'fourth-down-rate-graph', component_property = 'figure'),\n",
    "    Input('teams-names', 'value'),\n",
    "    Input('years', 'value')\n",
    ")\n",
    "def set_display_children(selected_team, selected_years):\n",
    "    filt_df = airportdata[airportdata['state'] == selected_team]\n",
    "    filt_df['col'] = 0\n",
    "    filt_df.loc[filt_df['iata'] == selected_year, 'col'] = 1\n",
    "    fig = px.scatter(filt_df, x = 'iata', y = 'cnt', template = 'seaborn', color = 'col', color_continuous_scale= 'rainbow' )\n",
    "    return fig\n"
   ]
  },
  {
   "cell_type": "code",
   "execution_count": 32,
   "id": "3b58a94b-1969-4a22-bb55-746ce03370ba",
   "metadata": {},
   "outputs": [
    {
     "ename": "HTTPError",
     "evalue": "HTTP Error 404: Not Found",
     "output_type": "error",
     "traceback": [
      "\u001b[0;31m---------------------------------------------------------------------------\u001b[0m",
      "\u001b[0;31mHTTPError\u001b[0m                                 Traceback (most recent call last)",
      "Input \u001b[0;32mIn [32]\u001b[0m, in \u001b[0;36m<module>\u001b[0;34m\u001b[0m\n\u001b[0;32m----> 1\u001b[0m teams \u001b[38;5;241m=\u001b[39m \u001b[43mTeams\u001b[49m\u001b[43m(\u001b[49m\u001b[38;5;124;43m'\u001b[39;49m\u001b[38;5;124;43mCHI\u001b[39;49m\u001b[38;5;124;43m'\u001b[39;49m\u001b[43m)\u001b[49m\n\u001b[1;32m      2\u001b[0m teams\u001b[38;5;241m.\u001b[39mDataFrame\u001b[38;5;241m.\u001b[39mhead()\n",
      "File \u001b[0;32m~/.cache/pypoetry/virtualenvs/assignments-fsCeEJsj-py3.9/lib/python3.9/site-packages/sportsreference/nfl/teams.py:539\u001b[0m, in \u001b[0;36mTeams.__init__\u001b[0;34m(self, year)\u001b[0m\n\u001b[1;32m    536\u001b[0m \u001b[38;5;28;01mdef\u001b[39;00m \u001b[38;5;21m__init__\u001b[39m(\u001b[38;5;28mself\u001b[39m, year\u001b[38;5;241m=\u001b[39m\u001b[38;5;28;01mNone\u001b[39;00m):\n\u001b[1;32m    537\u001b[0m     \u001b[38;5;28mself\u001b[39m\u001b[38;5;241m.\u001b[39m_teams \u001b[38;5;241m=\u001b[39m []\n\u001b[0;32m--> 539\u001b[0m     \u001b[38;5;28;43mself\u001b[39;49m\u001b[38;5;241;43m.\u001b[39;49m\u001b[43m_retrieve_all_teams\u001b[49m\u001b[43m(\u001b[49m\u001b[43myear\u001b[49m\u001b[43m)\u001b[49m\n",
      "File \u001b[0;32m~/.cache/pypoetry/virtualenvs/assignments-fsCeEJsj-py3.9/lib/python3.9/site-packages/sportsreference/nfl/teams.py:668\u001b[0m, in \u001b[0;36mTeams._retrieve_all_teams\u001b[0;34m(self, year)\u001b[0m\n\u001b[1;32m    665\u001b[0m     \u001b[38;5;28;01mif\u001b[39;00m \u001b[38;5;129;01mnot\u001b[39;00m utils\u001b[38;5;241m.\u001b[39m_url_exists(SEASON_PAGE_URL \u001b[38;5;241m%\u001b[39m year) \u001b[38;5;129;01mand\u001b[39;00m \\\n\u001b[1;32m    666\u001b[0m        utils\u001b[38;5;241m.\u001b[39m_url_exists(SEASON_PAGE_URL \u001b[38;5;241m%\u001b[39m \u001b[38;5;28mstr\u001b[39m(\u001b[38;5;28mint\u001b[39m(year) \u001b[38;5;241m-\u001b[39m \u001b[38;5;241m1\u001b[39m)):\n\u001b[1;32m    667\u001b[0m         year \u001b[38;5;241m=\u001b[39m \u001b[38;5;28mstr\u001b[39m(\u001b[38;5;28mint\u001b[39m(year) \u001b[38;5;241m-\u001b[39m \u001b[38;5;241m1\u001b[39m)\n\u001b[0;32m--> 668\u001b[0m doc \u001b[38;5;241m=\u001b[39m \u001b[43mpq\u001b[49m\u001b[43m(\u001b[49m\u001b[43mSEASON_PAGE_URL\u001b[49m\u001b[43m \u001b[49m\u001b[38;5;241;43m%\u001b[39;49m\u001b[43m \u001b[49m\u001b[43myear\u001b[49m\u001b[43m)\u001b[49m\n\u001b[1;32m    669\u001b[0m teams_list \u001b[38;5;241m=\u001b[39m utils\u001b[38;5;241m.\u001b[39m_get_stats_table(doc, \u001b[38;5;124m'\u001b[39m\u001b[38;5;124mdiv#all_team_stats\u001b[39m\u001b[38;5;124m'\u001b[39m)\n\u001b[1;32m    670\u001b[0m afc_list \u001b[38;5;241m=\u001b[39m utils\u001b[38;5;241m.\u001b[39m_get_stats_table(doc, \u001b[38;5;124m'\u001b[39m\u001b[38;5;124mtable#AFC\u001b[39m\u001b[38;5;124m'\u001b[39m)\n",
      "File \u001b[0;32m~/.cache/pypoetry/virtualenvs/assignments-fsCeEJsj-py3.9/lib/python3.9/site-packages/pyquery/pyquery.py:185\u001b[0m, in \u001b[0;36mPyQuery.__init__\u001b[0;34m(self, *args, **kwargs)\u001b[0m\n\u001b[1;32m    183\u001b[0m     html \u001b[38;5;241m=\u001b[39m opener(url, \u001b[38;5;241m*\u001b[39m\u001b[38;5;241m*\u001b[39mkwargs)\n\u001b[1;32m    184\u001b[0m \u001b[38;5;28;01melse\u001b[39;00m:\n\u001b[0;32m--> 185\u001b[0m     html \u001b[38;5;241m=\u001b[39m \u001b[43murl_opener\u001b[49m\u001b[43m(\u001b[49m\u001b[43murl\u001b[49m\u001b[43m,\u001b[49m\u001b[43m \u001b[49m\u001b[43mkwargs\u001b[49m\u001b[43m)\u001b[49m\n\u001b[1;32m    186\u001b[0m \u001b[38;5;28;01mif\u001b[39;00m \u001b[38;5;129;01mnot\u001b[39;00m \u001b[38;5;28mself\u001b[39m\u001b[38;5;241m.\u001b[39mparser:\n\u001b[1;32m    187\u001b[0m     \u001b[38;5;28mself\u001b[39m\u001b[38;5;241m.\u001b[39mparser \u001b[38;5;241m=\u001b[39m \u001b[38;5;124m'\u001b[39m\u001b[38;5;124mhtml\u001b[39m\u001b[38;5;124m'\u001b[39m\n",
      "File \u001b[0;32m~/.cache/pypoetry/virtualenvs/assignments-fsCeEJsj-py3.9/lib/python3.9/site-packages/pyquery/openers.py:76\u001b[0m, in \u001b[0;36murl_opener\u001b[0;34m(url, kwargs)\u001b[0m\n\u001b[1;32m     74\u001b[0m \u001b[38;5;28;01mdef\u001b[39;00m \u001b[38;5;21murl_opener\u001b[39m(url, kwargs):\n\u001b[1;32m     75\u001b[0m     \u001b[38;5;28;01mif\u001b[39;00m HAS_REQUEST:\n\u001b[0;32m---> 76\u001b[0m         \u001b[38;5;28;01mreturn\u001b[39;00m \u001b[43m_requests\u001b[49m\u001b[43m(\u001b[49m\u001b[43murl\u001b[49m\u001b[43m,\u001b[49m\u001b[43m \u001b[49m\u001b[43mkwargs\u001b[49m\u001b[43m)\u001b[49m\n\u001b[1;32m     77\u001b[0m     \u001b[38;5;28;01mreturn\u001b[39;00m _urllib(url, kwargs)\n",
      "File \u001b[0;32m~/.cache/pypoetry/virtualenvs/assignments-fsCeEJsj-py3.9/lib/python3.9/site-packages/pyquery/openers.py:60\u001b[0m, in \u001b[0;36m_requests\u001b[0;34m(url, kwargs)\u001b[0m\n\u001b[1;32m     58\u001b[0m resp \u001b[38;5;241m=\u001b[39m meth(url\u001b[38;5;241m=\u001b[39murl, timeout\u001b[38;5;241m=\u001b[39mkwargs\u001b[38;5;241m.\u001b[39mget(\u001b[38;5;124m'\u001b[39m\u001b[38;5;124mtimeout\u001b[39m\u001b[38;5;124m'\u001b[39m, DEFAULT_TIMEOUT), \u001b[38;5;241m*\u001b[39m\u001b[38;5;241m*\u001b[39mkw)\n\u001b[1;32m     59\u001b[0m \u001b[38;5;28;01mif\u001b[39;00m \u001b[38;5;129;01mnot\u001b[39;00m (\u001b[38;5;241m200\u001b[39m \u001b[38;5;241m<\u001b[39m\u001b[38;5;241m=\u001b[39m resp\u001b[38;5;241m.\u001b[39mstatus_code \u001b[38;5;241m<\u001b[39m \u001b[38;5;241m300\u001b[39m):\n\u001b[0;32m---> 60\u001b[0m     \u001b[38;5;28;01mraise\u001b[39;00m HTTPError(resp\u001b[38;5;241m.\u001b[39murl, resp\u001b[38;5;241m.\u001b[39mstatus_code,\n\u001b[1;32m     61\u001b[0m                     resp\u001b[38;5;241m.\u001b[39mreason, resp\u001b[38;5;241m.\u001b[39mheaders, \u001b[38;5;28;01mNone\u001b[39;00m)\n\u001b[1;32m     62\u001b[0m \u001b[38;5;28;01mif\u001b[39;00m encoding:\n\u001b[1;32m     63\u001b[0m     resp\u001b[38;5;241m.\u001b[39mencoding \u001b[38;5;241m=\u001b[39m encoding\n",
      "\u001b[0;31mHTTPError\u001b[0m: HTTP Error 404: Not Found"
     ]
    }
   ],
   "source": [
    "teams = Teams()\n",
    "teams.DataFrame.head()"
   ]
  },
  {
   "cell_type": "code",
   "execution_count": 2,
   "id": "31bbb32d-0310-426e-9814-0401fe2d78e8",
   "metadata": {},
   "outputs": [
    {
     "name": "stdout",
     "output_type": "stream",
     "text": [
      "202109120ram    0.000000\n",
      "202109190chi    0.000000\n",
      "202109260cle    0.000000\n",
      "202110030chi    1.000000\n",
      "202110100rai         NaN\n",
      "202110170chi    0.500000\n",
      "202110240tam    0.000000\n",
      "202110310chi    1.000000\n",
      "202111080pit         NaN\n",
      "202111210chi    0.666667\n",
      "202111250det         NaN\n",
      "202112050chi    1.000000\n",
      "202112120gnb    0.000000\n",
      "202112200chi    0.400000\n",
      "202112260sea    0.333333\n",
      "202201020chi    0.666667\n",
      "202201090min    0.166667\n",
      "dtype: float64\n"
     ]
    }
   ],
   "source": [
    "schedule = Schedule('CHI', year = 2021)\n",
    "schedule.dataframe.columns\n",
    "fourth_down_conv = schedule.dataframe.fourth_down_conversions\n",
    "fourth_down_att = schedule.dataframe.fourth_down_attempts\n",
    "fourth_down_rate = fourth_down_conv/fourth_down_att\n",
    "print(fourth_down_rate)\n"
   ]
  },
  {
   "cell_type": "code",
   "execution_count": 3,
   "id": "a52a60ed-6d20-4612-ba63-6b13586ad6ff",
   "metadata": {},
   "outputs": [
    {
     "ename": "SyntaxError",
     "evalue": "invalid syntax (464307310.py, line 1)",
     "output_type": "error",
     "traceback": [
      "\u001b[0;36m  Input \u001b[0;32mIn [3]\u001b[0;36m\u001b[0m\n\u001b[0;31m    def choose_team_and_year(str(team),int(year)):\u001b[0m\n\u001b[0m                                ^\u001b[0m\n\u001b[0;31mSyntaxError\u001b[0m\u001b[0;31m:\u001b[0m invalid syntax\n"
     ]
    }
   ],
   "source": [
    "def choose_team_and_year(str(team),int(year)):\n",
    "    schedule = Schedule(team, year)\n",
    "    game_codes = schedule.dataframe.boxscore_index\n",
    "    reg_home = r'[c][h][i]'\n",
    "    for game in game_codes:\n",
    "        fourth_down_conv = schedule.dataframe.fourth_down_conversions\n",
    "        fourth_down_att = schedule.dataframe.fourth_down_attempts\n",
    "        fourth_down_rate = fourth_down_conv/fourth_down_att\n",
    "\n",
    "choose_team_and_year('CHI', 2021)\n",
    "        "
   ]
  },
  {
   "cell_type": "code",
   "execution_count": null,
   "id": "ecfce865-0140-462a-9fc1-7f1ba26b167c",
   "metadata": {},
   "outputs": [],
   "source": []
  }
 ],
 "metadata": {
  "kernelspec": {
   "display_name": "Python 3 (ipykernel)",
   "language": "python",
   "name": "python3"
  },
  "language_info": {
   "codemirror_mode": {
    "name": "ipython",
    "version": 3
   },
   "file_extension": ".py",
   "mimetype": "text/x-python",
   "name": "python",
   "nbconvert_exporter": "python",
   "pygments_lexer": "ipython3",
   "version": "3.9.6"
  }
 },
 "nbformat": 4,
 "nbformat_minor": 5
}
